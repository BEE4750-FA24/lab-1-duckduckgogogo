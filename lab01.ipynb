{
 "cells": [
  {
   "cell_type": "markdown",
   "id": "7b030395-ff9d-488b-893a-3f2925d07a29",
   "metadata": {},
   "source": [
    "# BEE 4750 Lab 1: Julia and GitHub Basics\n",
    "\n",
    "**Name**:\n",
    "\n",
    "**ID**:\n",
    "\n",
    "> **Due Date**\n",
    ">\n",
    "> Wednesday, 8/28/24, 9:00pm\n",
    "\n",
    "## Setup\n",
    "\n",
    "The following code should go at the top of most Julia scripts; it will\n",
    "load the local package environment and install any needed packages. You\n",
    "will see this often and shouldn’t need to touch it."
   ]
  },
  {
   "cell_type": "code",
   "execution_count": 1,
   "id": "2",
   "metadata": {},
   "outputs": [
    {
     "name": "stderr",
     "output_type": "stream",
     "text": [
      "\u001b[32m\u001b[1m   Resolving\u001b[22m\u001b[39m package versions...\n",
      "\u001b[32m\u001b[1m  No Changes\u001b[22m\u001b[39m to `~/github/Cornell/BEE-5750/lab-1-duckduckgogogo/Project.toml`\n",
      "\u001b[32m\u001b[1m  No Changes\u001b[22m\u001b[39m to `~/github/Cornell/BEE-5750/lab-1-duckduckgogogo/Manifest.toml`\n",
      "\u001b[32m\u001b[1m  Activating\u001b[22m\u001b[39m project at `~/github/Cornell/BEE-5750/lab-1-duckduckgogogo`\n"
     ]
    }
   ],
   "source": [
    "import Pkg\n",
    "Pkg.add(\"LaTeXStrings\")\n",
    "Pkg.activate(\".\")\n",
    "Pkg.instantiate()"
   ]
  },
  {
   "cell_type": "markdown",
   "id": "b0c0f53b-93bc-4baa-8b0e-bdb58e8ff961",
   "metadata": {},
   "source": [
    "This next cell loads packages which are required for the rest of the\n",
    "code evaluation. In this case, we only need to load the `Plots.jl`\n",
    "plotting package, but you will see others over the course of the\n",
    "semester (and can add more if desired; just make sure that you’ve [added\n",
    "the new packages to the\n",
    "environment](https://viveks.me/environmental-systems-analysis/tutorials/julia-basics.html#package-management)).\n",
    "Standard Julia practice is to load all of the needed packages at the top\n",
    "of the file.\n",
    "\n",
    "> **Warning**\n",
    ">\n",
    "> Loading packages can take a while, especially the first time! Julia\n",
    "> tries to precompile all of the packages you’re using so repeat use is\n",
    "> faster, but this can be quite slow at first."
   ]
  },
  {
   "cell_type": "code",
   "execution_count": 2,
   "id": "4",
   "metadata": {},
   "outputs": [],
   "source": [
    "using Plots\n",
    "using LaTeXStrings"
   ]
  },
  {
   "cell_type": "markdown",
   "id": "6d2bc421-d992-4864-a390-fd6d7820f6c0",
   "metadata": {},
   "source": [
    "## Introduction\n",
    "\n",
    "### Julia\n",
    "\n",
    "Julia is an up-and-coming language, originally developed for scientific\n",
    "programming. While learning a new programming language always has its\n",
    "hiccups, the good news is that if you’ve programmed in a high-level\n",
    "language such as Python or MATLAB, most Julia concepts should look\n",
    "familiar.\n",
    "\n",
    "If you have not successfully set up Julia, follow the instructions in\n",
    "[Tools\n",
    "Setup](https://viveks.me/environmental-systems-analysis/setup.html)\n",
    "and/or ask for help.\n",
    "\n",
    "You can use other editors for this course, but our recommendation is\n",
    "[Visual Studio Code](https://code.visualstudio.com/) with the [Julia\n",
    "extension](https://marketplace.visualstudio.com/items?itemName=julialang.language-julia),\n",
    "which will make life a *lot* simpler! You should have set this up by\n",
    "following the [Tools\n",
    "Setup](https://viveks.me/environmental-systems-analysis/setup.html)\n",
    "instructions, but if not, do so now and/or ask for help.\n",
    "\n",
    "### Jupyter Notebooks\n",
    "\n",
    "Jupyter notebooks integrate text and equations in Markdown with Julia\n",
    "(or Python, or R) code. To do this, Jupyter notebooks consist of two\n",
    "types of “cells”: code cells and Markdown (text) cells.\n",
    "\n",
    "Click once on this section of text. A box will appear around this text\n",
    "(and some areas above/below it) - all of that is within this cell.\n",
    "\n",
    "Markdown is a text markup framework for formatting language that makes\n",
    "things look pretty when viewed across different platforms: web browsers,\n",
    "notebooks, and so forth. Text written in Markdown can also include\n",
    "hyperlinks, LaTeX equations, section headers, and images, among other\n",
    "features (most of [the course\n",
    "website](https://viveks.me/climate-risk-analysis) and the lecture notes\n",
    "were all written in Markdown!). [Here is a basic Markdown cheat\n",
    "sheet](https://www.markdownguide.org/cheat-sheet/).\n",
    "\n",
    "What you are looking at right now is the formatted text after the\n",
    "Markdown is processed. To see the raw Markdown, do one of:\n",
    "\n",
    "-   press `Enter` while that cell is selected, or\n",
    "-   double-click on that cell.\n",
    "\n",
    "------------------------------------------------------------------------\n",
    "\n",
    "A couple of the features you will see in this Markdown cell:\n",
    "\n",
    "-   The `---` command creates a horizontal line. This is also nice for\n",
    "    separating sections.\n",
    "-   Backticks (`` `...` ``) can be used to format and highlight code,\n",
    "    keystrokes, etc.\n",
    "-   The `#` sign is used to create a new section header; two `#` signs\n",
    "    (`##`) is used to create a new subsection header; `###` creates a\n",
    "    subsubsection, and so on.\n",
    "-   You can create a bulleted list by using the asterisk `*` or a dash\n",
    "    `-` and a space.\n",
    "-   You can create regular text by just typing as usual.\n",
    "-   You can create **bold-faced text** by wrapping it with two asterisks\n",
    "    on both sides.\n",
    "-   You can create *italicized text* by wrapping it with a single\n",
    "    asterisk on both sides.\n",
    "-   To create a new paragraph, you must include a blank line between the\n",
    "    old and new paragraphs.\n",
    "\n",
    "At this point you might be wondering how to turn this cell back into the\n",
    "fully formatted Markdown text instead of the raw Markdown you’re\n",
    "probably still looking at. You have a couple of options, depending on\n",
    "your platform, but the most consistent is to type `Shift + Enter` to\n",
    "**execute** the cell (this is also how to run code, but more on that\n",
    "later).\n",
    "\n",
    "Additionally, you will frequently need to create new cells in your\n",
    "Jupyter notebooks. How you do this will depend on how you interact with\n",
    "the notebook, but try to figure this out now.\n",
    "\n",
    "One tip is to think carefully about what bits of code should be in the\n",
    "same cell, as you typically only see output from the last command in a\n",
    "cell. For example, compare the following:"
   ]
  },
  {
   "cell_type": "markdown",
   "id": "f4268dcf",
   "metadata": {},
   "source": [
    "**New markdown cell!**"
   ]
  },
  {
   "cell_type": "code",
   "execution_count": 3,
   "id": "05d6c46f",
   "metadata": {},
   "outputs": [],
   "source": [
    "# New code cell!"
   ]
  },
  {
   "cell_type": "code",
   "execution_count": 4,
   "id": "6",
   "metadata": {},
   "outputs": [
    {
     "data": {
      "text/plain": [
       "-0.9589242746631385"
      ]
     },
     "execution_count": 4,
     "metadata": {},
     "output_type": "execute_result"
    }
   ],
   "source": [
    "x = 5\n",
    "sin(x)"
   ]
  },
  {
   "cell_type": "markdown",
   "id": "0b56a2f1-81e8-4426-b62a-95cfc3933b92",
   "metadata": {},
   "source": [
    "with"
   ]
  },
  {
   "cell_type": "code",
   "execution_count": 5,
   "id": "8",
   "metadata": {},
   "outputs": [
    {
     "data": {
      "text/plain": [
       "5"
      ]
     },
     "execution_count": 5,
     "metadata": {},
     "output_type": "execute_result"
    }
   ],
   "source": [
    "x = 5"
   ]
  },
  {
   "cell_type": "code",
   "execution_count": 6,
   "id": "10",
   "metadata": {},
   "outputs": [
    {
     "data": {
      "text/plain": [
       "-0.9589242746631385"
      ]
     },
     "execution_count": 6,
     "metadata": {},
     "output_type": "execute_result"
    }
   ],
   "source": [
    "sin(x)"
   ]
  },
  {
   "cell_type": "markdown",
   "id": "474d541d-93e6-47e1-874f-80abd6c9d7cc",
   "metadata": {},
   "source": [
    "In Julia, you can also suppress the output of a command with a\n",
    "semi-colon:"
   ]
  },
  {
   "cell_type": "code",
   "execution_count": 7,
   "id": "12",
   "metadata": {},
   "outputs": [],
   "source": [
    "sin(x);"
   ]
  },
  {
   "cell_type": "markdown",
   "id": "e5950d08-d04e-4fc7-bed8-33e0ee9a1909",
   "metadata": {},
   "source": [
    "which can help if you want to split some code out for clarity or to\n",
    "insert some text prior to it, but don’t want to clutter the notebook\n",
    "with its output.\n",
    "\n",
    "For code cells, to execute the commands within the cell, we also press\n",
    "`Shift+Enter`.\n",
    "\n",
    "Finally, **make sure that you evaluate all of the code cells in order\n",
    "before submitting**. One bad outcome with notebooks occurs when cells\n",
    "are evaluated out of order, so fixed bugs and edits in previous cells do\n",
    "not get a chance to propagate down. You can do this with the `Run All`\n",
    "command in whichever interface you’re using to edit your notebook.\n",
    "\n",
    "### Julia Basics\n",
    "\n",
    "There are many tutorials and references for Julia, including a [basics\n",
    "overview on the class website](../tutorials/julia-basics.html). Please\n",
    "feel free to reference these as you work through any part of the course.\n",
    "\n",
    "### Formatting Math\n",
    "\n",
    "It will often be helpful to include nicely-formatted mathematics in a\n",
    "notebook. Markdown accomodates this using LaTeX syntax. A LaTeX\n",
    "cheatsheet is available on the class website, and many other guides\n",
    "exist online.\n",
    "\n",
    "Below is an example of a formatted equation: $$x = 5.$$\n",
    "\n",
    "### Looking For Help\n",
    "\n",
    "There is no shame in using Google, or other resources, for help when\n",
    "programming. There are many, many times when you can’t quite get the\n",
    "syntax to work, can’t quite figure out the right package or command to\n",
    "use, or are feeling too lazy or overwhelmed (I’m not judging either of\n",
    "those!) to dig through the documentation. Some good resources include:\n",
    "\n",
    "-   [Stack Overflow](https://stackoverflow.com/) is a treasure trove of\n",
    "    answers;\n",
    "-   The [official Julia forum](https://discourse.julialang.org/) and the\n",
    "    [Julia Subreddit](https://www.reddit.com/r/Julia/) are also very\n",
    "    useful.\n",
    "\n",
    "You are also highly encouraged to post on [Ed\n",
    "Discussion](https://us.edstem.org), though getting a response might be\n",
    "less immediate. Just be mindful that to get good answers, [you have to\n",
    "help people help you](https://stackoverflow.com/help/how-to-ask), and\n",
    "**make sure to give credit to any resources that were helpful**!\n",
    "\n",
    "## Exercises (3 points)\n",
    "\n",
    "Use your understanding of Julia syntax and the GitHub workflow to\n",
    "complete the following (hopefully short) exercises. Convert your\n",
    "completed lab assignment to a PDF and submit it to the Gradescope\n",
    "Assignment “Lab 1”.\n",
    "\n",
    "**Remember to**:\n",
    "\n",
    "-   Include a (succint but clear) writeup of the core idea underlying\n",
    "    your code, through some combination of equations, text, and\n",
    "    algorithms. As you are not required to submit your code, we will not\n",
    "    be looking at it in detail, and instead will rely on those writeups\n",
    "    to assess whether your approach is correct.\n",
    "-   If using the notebook, evaluate all of your code cells, in order\n",
    "    (using a `Run All` command). This will make sure all output is\n",
    "    visible and that the code cells were evaluated in the correct order.\n",
    "-   Tag each of the problems when you submit to Gradescope; a 10%\n",
    "    penalty will be deducted if this is not done.\n",
    "\n",
    "### Computing a Dot Product\n",
    "\n",
    "Given two numeric arrays `x` and `y`, write a function to compute their\n",
    "dot product if they have equal length, and return an error if not (this\n",
    "is useful for debugging!). Use the following code as a starting point."
   ]
  },
  {
   "cell_type": "code",
   "execution_count": 8,
   "id": "14",
   "metadata": {},
   "outputs": [
    {
     "data": {
      "text/plain": [
       "dot_product (generic function with 1 method)"
      ]
     },
     "execution_count": 8,
     "metadata": {},
     "output_type": "execute_result"
    }
   ],
   "source": [
    "function dot_product(x, y)\n",
    "    if size(x) == size(y) # insert test condition for equal lengths\n",
    "        new = x .* y\n",
    "        return sum(new)\n",
    "    else\n",
    "        throw(DimensionMismatch(\"length of x not equal to length of y\"))\n",
    "    end\n",
    "end"
   ]
  },
  {
   "cell_type": "code",
   "execution_count": 9,
   "id": "d4dfb8d1",
   "metadata": {},
   "outputs": [
    {
     "data": {
      "text/plain": [
       "1×3 Matrix{Int64}:\n",
       " 1  2  3"
      ]
     },
     "execution_count": 9,
     "metadata": {},
     "output_type": "execute_result"
    }
   ],
   "source": [
    "x = [1 2 3]"
   ]
  },
  {
   "cell_type": "markdown",
   "id": "e0ce47a6-a5e8-4cd8-a776-5b04adfa6330",
   "metadata": {},
   "source": [
    "Here are some tests to make sure your code works as intended. Tests like\n",
    "these are useful to make sure everything works as intended. One reason\n",
    "to split your code up into functions is that it makes it straightforward\n",
    "to write tests to make sure each piece of your code works, which makes\n",
    "it easier to identify where errors are occuring."
   ]
  },
  {
   "cell_type": "code",
   "execution_count": 10,
   "id": "16",
   "metadata": {},
   "outputs": [
    {
     "data": {
      "text/plain": [
       "32"
      ]
     },
     "execution_count": 10,
     "metadata": {},
     "output_type": "execute_result"
    }
   ],
   "source": [
    "dot_product([1 2 3], [4 5 6])"
   ]
  },
  {
   "cell_type": "markdown",
   "id": "37f85171-25e8-4513-b57c-af25ff4378e7",
   "metadata": {},
   "source": [
    "If you know the value you should get, you can write a more formal test\n",
    "using the `@assert` macro, which is a good way to “automate” checking\n",
    "(since you get an obvious error if the code doesn’t work as desired):"
   ]
  },
  {
   "cell_type": "code",
   "execution_count": 11,
   "id": "18",
   "metadata": {},
   "outputs": [],
   "source": [
    "@assert dot_product([1 2 3], [4 5 6]) == 32"
   ]
  },
  {
   "cell_type": "markdown",
   "id": "65ccdcd8-449e-4f0c-8f4e-7953ea267f8d",
   "metadata": {},
   "source": [
    "Let’s also make sure we get an error when the dimensions of the two\n",
    "vectors don’t match:"
   ]
  },
  {
   "cell_type": "code",
   "execution_count": 12,
   "id": "20",
   "metadata": {},
   "outputs": [
    {
     "ename": "LoadError",
     "evalue": "DimensionMismatch: length of x not equal to length of y",
     "output_type": "error",
     "traceback": [
      "DimensionMismatch: length of x not equal to length of y",
      "",
      "Stacktrace:",
      " [1] dot_product(x::Matrix{Int64}, y::Matrix{Int64})",
      "   @ Main ./In[8]:6",
      " [2] top-level scope",
      "   @ In[12]:1"
     ]
    }
   ],
   "source": [
    "dot_product([1 2 3], [4 5])"
   ]
  },
  {
   "cell_type": "markdown",
   "id": "398571d1",
   "metadata": {},
   "source": [
    "#### **SOLUTION DESCRIPTION - QUESTION 1**\n",
    "\n",
    "Completed the code for the function *dot_product*. \n",
    "\n",
    "If the matrices *x* and *y* are the same size, compute their dot product. Otherwise, throw an exception. \n",
    "\n",
    "To compute the dot product, multiply the two matrices element-wise then sum the two matrices across all their elements. "
   ]
  },
  {
   "cell_type": "markdown",
   "id": "8c069a05-159a-43b4-aa3f-d1fec9a2f727",
   "metadata": {},
   "source": [
    "### Making a Plot\n",
    "\n",
    "Write a function to compute the square of an integer `x`. Evaluate this\n",
    "function for integers between $x=-5$ and $x=5$ and make a plot of the\n",
    "squared values (you can find a quick guide to making various types of\n",
    "plots\n",
    "[here](https://viveks.me/environmental-systems-analysis/tutorials/julia-plots.html)).\n",
    "Make sure to label your axes."
   ]
  },
  {
   "cell_type": "code",
   "execution_count": 13,
   "id": "22",
   "metadata": {},
   "outputs": [
    {
     "data": {
      "image/png": "[encoded data removed]",
      "image/svg+xml": [
       "<?xml version=\"1.0\" encoding=\"utf-8\"?>\n",
       "<svg xmlns=\"http://www.w3.org/2000/svg\" xmlns:xlink=\"http://www.w3.org/1999/xlink\" width=\"600\" height=\"400\" viewBox=\"0 0 2400 1600\">\n",
       "<defs>\n",
       "  <clipPath id=\"clip690\">\n",
       "    <rect x=\"0\" y=\"0\" width=\"2400\" height=\"1600\"/>\n",
       "  </clipPath>\n",
       "</defs>\n",
       "<path clip-path=\"url(#clip690)\" d=\"M0 1600 L2400 1600 L2400 8.88178e-14 L0 8.88178e-14  Z\" fill=\"#ffffff\" fill-rule=\"evenodd\" fill-opacity=\"1\"/>\n",
       "<defs>\n",
       "  <clipPath id=\"clip691\">\n",
       "    <rect x=\"480\" y=\"0\" width=\"1681\" height=\"1600\"/>\n",
       "  </clipPath>\n",
       "</defs>\n",
       "<path clip-path=\"url(#clip690)\" d=\"M203.964 1423.18 L2352.76 1423.18 L2352.76 47.2441 L203.964 47.2441  Z\" fill=\"#ffffff\" fill-rule=\"evenodd\" fill-opacity=\"1\"/>\n",
       "<defs>\n",
       "  <clipPath id=\"clip692\">\n",
       "    <rect x=\"203\" y=\"47\" width=\"2150\" height=\"1377\"/>\n",
       "  </clipPath>\n",
       "</defs>\n",
       "<polyline clip-path=\"url(#clip692)\" style=\"stroke:#000000; stroke-linecap:round; stroke-linejoin:round; stroke-width:2; stroke-opacity:0.1; fill:none\" points=\"467.495,1423.18 467.495,47.2441 \"/>\n",
       "<polyline clip-path=\"url(#clip692)\" style=\"stroke:#000000; stroke-linecap:round; stroke-linejoin:round; stroke-width:2; stroke-opacity:0.1; fill:none\" points=\"872.927,1423.18 872.927,47.2441 \"/>\n",
       "<polyline clip-path=\"url(#clip692)\" style=\"stroke:#000000; stroke-linecap:round; stroke-linejoin:round; stroke-width:2; stroke-opacity:0.1; fill:none\" points=\"1278.36,1423.18 1278.36,47.2441 \"/>\n",
       "<polyline clip-path=\"url(#clip692)\" style=\"stroke:#000000; stroke-linecap:round; stroke-linejoin:round; stroke-width:2; stroke-opacity:0.1; fill:none\" points=\"1683.79,1423.18 1683.79,47.2441 \"/>\n",
       "<polyline clip-path=\"url(#clip692)\" style=\"stroke:#000000; stroke-linecap:round; stroke-linejoin:round; stroke-width:2; stroke-opacity:0.1; fill:none\" points=\"2089.22,1423.18 2089.22,47.2441 \"/>\n",
       "<polyline clip-path=\"url(#clip690)\" style=\"stroke:#000000; stroke-linecap:round; stroke-linejoin:round; stroke-width:4; stroke-opacity:1; fill:none\" points=\"203.964,1423.18 2352.76,1423.18 \"/>\n",
       "<polyline clip-path=\"url(#clip690)\" style=\"stroke:#000000; stroke-linecap:round; stroke-linejoin:round; stroke-width:4; stroke-opacity:1; fill:none\" points=\"467.495,1423.18 467.495,1404.28 \"/>\n",
       "<polyline clip-path=\"url(#clip690)\" style=\"stroke:#000000; stroke-linecap:round; stroke-linejoin:round; stroke-width:4; stroke-opacity:1; fill:none\" points=\"872.927,1423.18 872.927,1404.28 \"/>\n",
       "<polyline clip-path=\"url(#clip690)\" style=\"stroke:#000000; stroke-linecap:round; stroke-linejoin:round; stroke-width:4; stroke-opacity:1; fill:none\" points=\"1278.36,1423.18 1278.36,1404.28 \"/>\n",
       "<polyline clip-path=\"url(#clip690)\" style=\"stroke:#000000; stroke-linecap:round; stroke-linejoin:round; stroke-width:4; stroke-opacity:1; fill:none\" points=\"1683.79,1423.18 1683.79,1404.28 \"/>\n",
       "<polyline clip-path=\"url(#clip690)\" style=\"stroke:#000000; stroke-linecap:round; stroke-linejoin:round; stroke-width:4; stroke-opacity:1; fill:none\" points=\"2089.22,1423.18 2089.22,1404.28 \"/>\n",
       "<path clip-path=\"url(#clip690)\" d=\"M462.148 1481.64 L478.467 1481.64 L478.467 1485.58 L456.523 1485.58 L456.523 1481.64 Q459.185 1478.89 463.768 1474.26 Q468.374 1469.61 469.555 1468.27 Q471.8 1465.74 472.68 1464.01 Q473.583 1462.25 473.583 1460.56 Q473.583 1457.8 471.638 1456.07 Q469.717 1454.33 466.615 1454.33 Q464.416 1454.33 461.962 1455.09 Q459.532 1455.86 456.754 1457.41 L456.754 1452.69 Q459.578 1451.55 462.032 1450.97 Q464.485 1450.39 466.522 1450.39 Q471.893 1450.39 475.087 1453.08 Q478.282 1455.77 478.282 1460.26 Q478.282 1462.39 477.472 1464.31 Q476.684 1466.2 474.578 1468.8 Q473.999 1469.47 470.897 1472.69 Q467.796 1475.88 462.148 1481.64 Z\" fill=\"#000000\" fill-rule=\"nonzero\" fill-opacity=\"1\" /><path clip-path=\"url(#clip690)\" d=\"M875.936 1455.09 L864.131 1473.54 L875.936 1473.54 L875.936 1455.09 M874.71 1451.02 L880.589 1451.02 L880.589 1473.54 L885.52 1473.54 L885.52 1477.43 L880.589 1477.43 L880.589 1485.58 L875.936 1485.58 L875.936 1477.43 L860.335 1477.43 L860.335 1472.92 L874.71 1451.02 Z\" fill=\"#000000\" fill-rule=\"nonzero\" fill-opacity=\"1\" /><path clip-path=\"url(#clip690)\" d=\"M1278.76 1466.44 Q1275.62 1466.44 1273.76 1468.59 Q1271.94 1470.74 1271.94 1474.49 Q1271.94 1478.22 1273.76 1480.39 Q1275.62 1482.55 1278.76 1482.55 Q1281.91 1482.55 1283.74 1480.39 Q1285.59 1478.22 1285.59 1474.49 Q1285.59 1470.74 1283.74 1468.59 Q1281.91 1466.44 1278.76 1466.44 M1288.05 1451.78 L1288.05 1456.04 Q1286.29 1455.21 1284.48 1454.77 Q1282.7 1454.33 1280.94 1454.33 Q1276.31 1454.33 1273.86 1457.45 Q1271.43 1460.58 1271.08 1466.9 Q1272.45 1464.89 1274.51 1463.82 Q1276.57 1462.73 1279.04 1462.73 Q1284.25 1462.73 1287.26 1465.9 Q1290.29 1469.05 1290.29 1474.49 Q1290.29 1479.82 1287.14 1483.03 Q1284 1486.25 1278.76 1486.25 Q1272.77 1486.25 1269.6 1481.67 Q1266.43 1477.06 1266.43 1468.33 Q1266.43 1460.14 1270.32 1455.28 Q1274.2 1450.39 1280.76 1450.39 Q1282.51 1450.39 1284.3 1450.74 Q1286.1 1451.09 1288.05 1451.78 Z\" fill=\"#000000\" fill-rule=\"nonzero\" fill-opacity=\"1\" /><path clip-path=\"url(#clip690)\" d=\"M1683.79 1469.17 Q1680.46 1469.17 1678.54 1470.95 Q1676.64 1472.73 1676.64 1475.86 Q1676.64 1478.98 1678.54 1480.77 Q1680.46 1482.55 1683.79 1482.55 Q1687.13 1482.55 1689.05 1480.77 Q1690.97 1478.96 1690.97 1475.86 Q1690.97 1472.73 1689.05 1470.95 Q1687.15 1469.17 1683.79 1469.17 M1679.12 1467.18 Q1676.11 1466.44 1674.42 1464.38 Q1672.75 1462.32 1672.75 1459.35 Q1672.75 1455.21 1675.69 1452.8 Q1678.65 1450.39 1683.79 1450.39 Q1688.95 1450.39 1691.89 1452.8 Q1694.83 1455.21 1694.83 1459.35 Q1694.83 1462.32 1693.14 1464.38 Q1691.48 1466.44 1688.49 1467.18 Q1691.87 1467.96 1693.75 1470.26 Q1695.64 1472.55 1695.64 1475.86 Q1695.64 1480.88 1692.57 1483.57 Q1689.51 1486.25 1683.79 1486.25 Q1678.07 1486.25 1675 1483.57 Q1671.94 1480.88 1671.94 1475.86 Q1671.94 1472.55 1673.84 1470.26 Q1675.74 1467.96 1679.12 1467.18 M1677.4 1459.79 Q1677.4 1462.48 1679.07 1463.98 Q1680.76 1465.49 1683.79 1465.49 Q1686.8 1465.49 1688.49 1463.98 Q1690.2 1462.48 1690.2 1459.79 Q1690.2 1457.11 1688.49 1455.6 Q1686.8 1454.1 1683.79 1454.1 Q1680.76 1454.1 1679.07 1455.6 Q1677.4 1457.11 1677.4 1459.79 Z\" fill=\"#000000\" fill-rule=\"nonzero\" fill-opacity=\"1\" /><path clip-path=\"url(#clip690)\" d=\"M2063.91 1481.64 L2071.55 1481.64 L2071.55 1455.28 L2063.24 1456.95 L2063.24 1452.69 L2071.5 1451.02 L2076.18 1451.02 L2076.18 1481.64 L2083.82 1481.64 L2083.82 1485.58 L2063.91 1485.58 L2063.91 1481.64 Z\" fill=\"#000000\" fill-rule=\"nonzero\" fill-opacity=\"1\" /><path clip-path=\"url(#clip690)\" d=\"M2103.26 1454.1 Q2099.65 1454.1 2097.82 1457.66 Q2096.02 1461.2 2096.02 1468.33 Q2096.02 1475.44 2097.82 1479.01 Q2099.65 1482.55 2103.26 1482.55 Q2106.9 1482.55 2108.7 1479.01 Q2110.53 1475.44 2110.53 1468.33 Q2110.53 1461.2 2108.7 1457.66 Q2106.9 1454.1 2103.26 1454.1 M2103.26 1450.39 Q2109.07 1450.39 2112.13 1455 Q2115.21 1459.58 2115.21 1468.33 Q2115.21 1477.06 2112.13 1481.67 Q2109.07 1486.25 2103.26 1486.25 Q2097.45 1486.25 2094.38 1481.67 Q2091.32 1477.06 2091.32 1468.33 Q2091.32 1459.58 2094.38 1455 Q2097.45 1450.39 2103.26 1450.39 Z\" fill=\"#000000\" fill-rule=\"nonzero\" fill-opacity=\"1\" /><path clip-path=\"url(#clip690)\" d=\"M1292.53 1528.8 Q1292.53 1530.61 1291.41 1531.64 Q1290.28 1532.64 1288.99 1532.64 Q1287.77 1532.64 1287.12 1531.93 Q1286.48 1531.22 1286.48 1530.32 Q1286.48 1529.09 1287.38 1528.03 Q1288.28 1526.97 1289.63 1526.74 Q1288.31 1525.91 1286.35 1525.91 Q1285.06 1525.91 1283.93 1526.58 Q1282.84 1527.26 1282.16 1528.13 Q1281.52 1529 1280.94 1530.25 Q1280.39 1531.48 1280.17 1532.22 Q1279.97 1532.93 1279.81 1533.7 L1277.56 1542.72 Q1276.46 1547 1276.46 1548.51 Q1276.46 1550.38 1277.36 1551.64 Q1278.27 1552.86 1280.07 1552.86 Q1280.78 1552.86 1281.58 1552.67 Q1282.39 1552.44 1283.42 1551.86 Q1284.48 1551.25 1285.42 1550.35 Q1286.38 1549.42 1287.32 1547.84 Q1288.25 1546.26 1288.86 1544.23 Q1289.05 1543.52 1289.7 1543.52 Q1290.5 1543.52 1290.5 1544.17 Q1290.5 1544.71 1290.05 1545.87 Q1289.63 1547 1288.7 1548.48 Q1287.8 1549.93 1286.61 1551.25 Q1285.42 1552.54 1283.64 1553.44 Q1281.87 1554.34 1279.94 1554.34 Q1277.17 1554.34 1275.34 1552.86 Q1273.5 1551.38 1272.82 1549.32 Q1272.66 1549.61 1272.44 1550 Q1272.21 1550.38 1271.53 1551.25 Q1270.89 1552.09 1270.15 1552.73 Q1269.41 1553.34 1268.25 1553.83 Q1267.12 1554.34 1265.9 1554.34 Q1264.35 1554.34 1262.97 1553.89 Q1261.62 1553.44 1260.65 1552.41 Q1259.68 1551.38 1259.68 1549.96 Q1259.68 1548.38 1260.75 1547.29 Q1261.84 1546.16 1263.32 1546.16 Q1264.26 1546.16 1265 1546.71 Q1265.77 1547.26 1265.77 1548.45 Q1265.77 1549.77 1264.87 1550.77 Q1263.97 1551.77 1262.68 1552.02 Q1264 1552.86 1265.96 1552.86 Q1268.09 1552.86 1269.76 1550.99 Q1271.44 1549.13 1272.24 1546 Q1274.24 1538.5 1275.01 1535.15 Q1275.79 1531.77 1275.79 1530.32 Q1275.79 1528.96 1275.43 1528.03 Q1275.08 1527.1 1274.47 1526.68 Q1273.89 1526.23 1273.34 1526.07 Q1272.82 1525.91 1272.24 1525.91 Q1271.28 1525.91 1270.18 1526.29 Q1269.12 1526.68 1267.83 1527.58 Q1266.58 1528.45 1265.38 1530.25 Q1264.19 1532.06 1263.39 1534.54 Q1263.23 1535.28 1262.52 1535.28 Q1261.74 1535.24 1261.74 1534.6 Q1261.74 1534.05 1262.16 1532.93 Q1262.61 1531.77 1263.52 1530.32 Q1264.45 1528.87 1265.64 1527.58 Q1266.87 1526.26 1268.64 1525.36 Q1270.44 1524.46 1272.37 1524.46 Q1273.24 1524.46 1274.08 1524.65 Q1274.95 1524.81 1275.98 1525.29 Q1277.04 1525.78 1277.98 1526.84 Q1278.91 1527.9 1279.49 1529.45 Q1279.88 1528.71 1280.39 1528 Q1280.94 1527.29 1281.78 1526.42 Q1282.65 1525.52 1283.84 1525 Q1285.06 1524.46 1286.41 1524.46 Q1287.73 1524.46 1289.02 1524.81 Q1290.31 1525.13 1291.41 1526.19 Q1292.53 1527.23 1292.53 1528.8 Z\" fill=\"#000000\" fill-rule=\"nonzero\" fill-opacity=\"1\" /><polyline clip-path=\"url(#clip692)\" style=\"stroke:#000000; stroke-linecap:round; stroke-linejoin:round; stroke-width:2; stroke-opacity:0.1; fill:none\" points=\"203.964,1384.24 2352.76,1384.24 \"/>\n",
       "<polyline clip-path=\"url(#clip692)\" style=\"stroke:#000000; stroke-linecap:round; stroke-linejoin:round; stroke-width:2; stroke-opacity:0.1; fill:none\" points=\"203.964,1124.63 2352.76,1124.63 \"/>\n",
       "<polyline clip-path=\"url(#clip692)\" style=\"stroke:#000000; stroke-linecap:round; stroke-linejoin:round; stroke-width:2; stroke-opacity:0.1; fill:none\" points=\"203.964,865.017 2352.76,865.017 \"/>\n",
       "<polyline clip-path=\"url(#clip692)\" style=\"stroke:#000000; stroke-linecap:round; stroke-linejoin:round; stroke-width:2; stroke-opacity:0.1; fill:none\" points=\"203.964,605.407 2352.76,605.407 \"/>\n",
       "<polyline clip-path=\"url(#clip692)\" style=\"stroke:#000000; stroke-linecap:round; stroke-linejoin:round; stroke-width:2; stroke-opacity:0.1; fill:none\" points=\"203.964,345.796 2352.76,345.796 \"/>\n",
       "<polyline clip-path=\"url(#clip692)\" style=\"stroke:#000000; stroke-linecap:round; stroke-linejoin:round; stroke-width:2; stroke-opacity:0.1; fill:none\" points=\"203.964,86.1857 2352.76,86.1857 \"/>\n",
       "<polyline clip-path=\"url(#clip690)\" style=\"stroke:#000000; stroke-linecap:round; stroke-linejoin:round; stroke-width:4; stroke-opacity:1; fill:none\" points=\"203.964,1423.18 203.964,47.2441 \"/>\n",
       "<polyline clip-path=\"url(#clip690)\" style=\"stroke:#000000; stroke-linecap:round; stroke-linejoin:round; stroke-width:4; stroke-opacity:1; fill:none\" points=\"203.964,1384.24 222.861,1384.24 \"/>\n",
       "<polyline clip-path=\"url(#clip690)\" style=\"stroke:#000000; stroke-linecap:round; stroke-linejoin:round; stroke-width:4; stroke-opacity:1; fill:none\" points=\"203.964,1124.63 222.861,1124.63 \"/>\n",
       "<polyline clip-path=\"url(#clip690)\" style=\"stroke:#000000; stroke-linecap:round; stroke-linejoin:round; stroke-width:4; stroke-opacity:1; fill:none\" points=\"203.964,865.017 222.861,865.017 \"/>\n",
       "<polyline clip-path=\"url(#clip690)\" style=\"stroke:#000000; stroke-linecap:round; stroke-linejoin:round; stroke-width:4; stroke-opacity:1; fill:none\" points=\"203.964,605.407 222.861,605.407 \"/>\n",
       "<polyline clip-path=\"url(#clip690)\" style=\"stroke:#000000; stroke-linecap:round; stroke-linejoin:round; stroke-width:4; stroke-opacity:1; fill:none\" points=\"203.964,345.796 222.861,345.796 \"/>\n",
       "<polyline clip-path=\"url(#clip690)\" style=\"stroke:#000000; stroke-linecap:round; stroke-linejoin:round; stroke-width:4; stroke-opacity:1; fill:none\" points=\"203.964,86.1857 222.861,86.1857 \"/>\n",
       "<path clip-path=\"url(#clip690)\" d=\"M156.019 1370.04 Q152.408 1370.04 150.579 1373.6 Q148.774 1377.14 148.774 1384.27 Q148.774 1391.38 150.579 1394.94 Q152.408 1398.49 156.019 1398.49 Q159.653 1398.49 161.459 1394.94 Q163.288 1391.38 163.288 1384.27 Q163.288 1377.14 161.459 1373.6 Q159.653 1370.04 156.019 1370.04 M156.019 1366.33 Q161.829 1366.33 164.885 1370.94 Q167.964 1375.52 167.964 1384.27 Q167.964 1393 164.885 1397.61 Q161.829 1402.19 156.019 1402.19 Q150.209 1402.19 147.13 1397.61 Q144.075 1393 144.075 1384.27 Q144.075 1375.52 147.13 1370.94 Q150.209 1366.33 156.019 1366.33 Z\" fill=\"#000000\" fill-rule=\"nonzero\" fill-opacity=\"1\" /><path clip-path=\"url(#clip690)\" d=\"M147.061 1107.35 L165.417 1107.35 L165.417 1111.28 L151.343 1111.28 L151.343 1119.76 Q152.362 1119.41 153.38 1119.25 Q154.399 1119.06 155.417 1119.06 Q161.204 1119.06 164.584 1122.23 Q167.964 1125.4 167.964 1130.82 Q167.964 1136.4 164.491 1139.5 Q161.019 1142.58 154.7 1142.58 Q152.524 1142.58 150.255 1142.21 Q148.01 1141.84 145.603 1141.1 L145.603 1136.4 Q147.686 1137.53 149.908 1138.09 Q152.13 1138.64 154.607 1138.64 Q158.612 1138.64 160.95 1136.54 Q163.288 1134.43 163.288 1130.82 Q163.288 1127.21 160.95 1125.1 Q158.612 1123 154.607 1123 Q152.732 1123 150.857 1123.41 Q149.005 1123.83 147.061 1124.71 L147.061 1107.35 Z\" fill=\"#000000\" fill-rule=\"nonzero\" fill-opacity=\"1\" /><path clip-path=\"url(#clip690)\" d=\"M116.668 878.362 L124.306 878.362 L124.306 851.996 L115.996 853.663 L115.996 849.404 L124.26 847.737 L128.936 847.737 L128.936 878.362 L136.575 878.362 L136.575 882.297 L116.668 882.297 L116.668 878.362 Z\" fill=\"#000000\" fill-rule=\"nonzero\" fill-opacity=\"1\" /><path clip-path=\"url(#clip690)\" d=\"M156.019 850.816 Q152.408 850.816 150.579 854.381 Q148.774 857.922 148.774 865.052 Q148.774 872.158 150.579 875.723 Q152.408 879.265 156.019 879.265 Q159.653 879.265 161.459 875.723 Q163.288 872.158 163.288 865.052 Q163.288 857.922 161.459 854.381 Q159.653 850.816 156.019 850.816 M156.019 847.112 Q161.829 847.112 164.885 851.719 Q167.964 856.302 167.964 865.052 Q167.964 873.779 164.885 878.385 Q161.829 882.969 156.019 882.969 Q150.209 882.969 147.13 878.385 Q144.075 873.779 144.075 865.052 Q144.075 856.302 147.13 851.719 Q150.209 847.112 156.019 847.112 Z\" fill=\"#000000\" fill-rule=\"nonzero\" fill-opacity=\"1\" /><path clip-path=\"url(#clip690)\" d=\"M117.663 618.752 L125.302 618.752 L125.302 592.386 L116.992 594.053 L116.992 589.793 L125.255 588.127 L129.931 588.127 L129.931 618.752 L137.57 618.752 L137.57 622.687 L117.663 622.687 L117.663 618.752 Z\" fill=\"#000000\" fill-rule=\"nonzero\" fill-opacity=\"1\" /><path clip-path=\"url(#clip690)\" d=\"M147.061 588.127 L165.417 588.127 L165.417 592.062 L151.343 592.062 L151.343 600.534 Q152.362 600.187 153.38 600.025 Q154.399 599.84 155.417 599.84 Q161.204 599.84 164.584 603.011 Q167.964 606.182 167.964 611.599 Q167.964 617.177 164.491 620.279 Q161.019 623.358 154.7 623.358 Q152.524 623.358 150.255 622.988 Q148.01 622.617 145.603 621.877 L145.603 617.177 Q147.686 618.312 149.908 618.867 Q152.13 619.423 154.607 619.423 Q158.612 619.423 160.95 617.316 Q163.288 615.21 163.288 611.599 Q163.288 607.988 160.95 605.881 Q158.612 603.775 154.607 603.775 Q152.732 603.775 150.857 604.191 Q149.005 604.608 147.061 605.488 L147.061 588.127 Z\" fill=\"#000000\" fill-rule=\"nonzero\" fill-opacity=\"1\" /><path clip-path=\"url(#clip690)\" d=\"M119.885 359.141 L136.204 359.141 L136.204 363.076 L114.26 363.076 L114.26 359.141 Q116.922 356.386 121.505 351.757 Q126.112 347.104 127.292 345.761 Q129.538 343.238 130.417 341.502 Q131.32 339.743 131.32 338.053 Q131.32 335.299 129.376 333.562 Q127.455 331.826 124.353 331.826 Q122.154 331.826 119.7 332.59 Q117.269 333.354 114.492 334.905 L114.492 330.183 Q117.316 329.049 119.769 328.47 Q122.223 327.891 124.26 327.891 Q129.63 327.891 132.825 330.576 Q136.019 333.262 136.019 337.752 Q136.019 339.882 135.209 341.803 Q134.422 343.701 132.316 346.294 Q131.737 346.965 128.635 350.183 Q125.533 353.377 119.885 359.141 Z\" fill=\"#000000\" fill-rule=\"nonzero\" fill-opacity=\"1\" /><path clip-path=\"url(#clip690)\" d=\"M156.019 331.595 Q152.408 331.595 150.579 335.16 Q148.774 338.701 148.774 345.831 Q148.774 352.937 150.579 356.502 Q152.408 360.044 156.019 360.044 Q159.653 360.044 161.459 356.502 Q163.288 352.937 163.288 345.831 Q163.288 338.701 161.459 335.16 Q159.653 331.595 156.019 331.595 M156.019 327.891 Q161.829 327.891 164.885 332.498 Q167.964 337.081 167.964 345.831 Q167.964 354.558 164.885 359.164 Q161.829 363.747 156.019 363.747 Q150.209 363.747 147.13 359.164 Q144.075 354.558 144.075 345.831 Q144.075 337.081 147.13 332.498 Q150.209 327.891 156.019 327.891 Z\" fill=\"#000000\" fill-rule=\"nonzero\" fill-opacity=\"1\" /><path clip-path=\"url(#clip690)\" d=\"M120.88 99.5305 L137.2 99.5305 L137.2 103.466 L115.256 103.466 L115.256 99.5305 Q117.918 96.7759 122.501 92.1463 Q127.107 87.4935 128.288 86.151 Q130.533 83.6278 131.413 81.8917 Q132.316 80.1325 132.316 78.4427 Q132.316 75.688 130.371 73.9519 Q128.45 72.2158 125.348 72.2158 Q123.149 72.2158 120.695 72.9797 Q118.265 73.7436 115.487 75.2945 L115.487 70.5723 Q118.311 69.4381 120.765 68.8594 Q123.218 68.2807 125.255 68.2807 Q130.626 68.2807 133.82 70.9658 Q137.015 73.651 137.015 78.1417 Q137.015 80.2714 136.204 82.1926 Q135.417 84.0908 133.311 86.6834 Q132.732 87.3546 129.63 90.5722 Q126.529 93.7667 120.88 99.5305 Z\" fill=\"#000000\" fill-rule=\"nonzero\" fill-opacity=\"1\" /><path clip-path=\"url(#clip690)\" d=\"M147.061 68.9057 L165.417 68.9057 L165.417 72.8408 L151.343 72.8408 L151.343 81.313 Q152.362 80.9658 153.38 80.8038 Q154.399 80.6186 155.417 80.6186 Q161.204 80.6186 164.584 83.7899 Q167.964 86.9611 167.964 92.3778 Q167.964 97.9564 164.491 101.058 Q161.019 104.137 154.7 104.137 Q152.524 104.137 150.255 103.767 Q148.01 103.396 145.603 102.655 L145.603 97.9564 Q147.686 99.0907 149.908 99.6462 Q152.13 100.202 154.607 100.202 Q158.612 100.202 160.95 98.0953 Q163.288 95.9889 163.288 92.3778 Q163.288 88.7667 160.95 86.6602 Q158.612 84.5537 154.607 84.5537 Q152.732 84.5537 150.857 84.9704 Q149.005 85.3871 147.061 86.2667 L147.061 68.9057 Z\" fill=\"#000000\" fill-rule=\"nonzero\" fill-opacity=\"1\" /><path clip-path=\"url(#clip690)\" d=\"M49.6813 734.795 Q51.4848 734.795 52.5154 735.922 Q53.5138 737.049 53.5138 738.338 Q53.5138 739.561 52.8053 740.206 Q52.0967 740.85 51.195 740.85 Q49.9711 740.85 48.9083 739.948 Q47.8456 739.046 47.6201 737.693 Q46.7828 739.014 46.7828 740.978 Q46.7828 742.267 47.4591 743.394 Q48.1354 744.489 49.005 745.165 Q49.8745 745.809 51.1305 746.389 Q52.3544 746.937 53.0951 747.162 Q53.8036 747.355 54.5766 747.516 L63.5942 749.771 Q67.8776 750.866 69.3913 750.866 Q71.2592 750.866 72.5152 749.964 Q73.7391 749.062 73.7391 747.259 Q73.7391 746.55 73.5458 745.745 Q73.3204 744.94 72.7407 743.909 Q72.1288 742.846 71.227 741.912 Q70.293 740.946 68.7149 740.012 Q67.1369 739.078 65.1079 738.466 Q64.3994 738.273 64.3994 737.629 Q64.3994 736.824 65.0435 736.824 Q65.591 736.824 66.7504 737.275 Q67.8776 737.693 69.3591 738.627 Q70.8083 739.529 72.1288 740.721 Q73.417 741.912 74.3188 743.684 Q75.2205 745.455 75.2205 747.387 Q75.2205 750.157 73.7391 751.993 Q72.2576 753.829 70.1964 754.505 Q70.4863 754.666 70.8727 754.891 Q71.2592 755.117 72.1288 755.793 Q72.9661 756.437 73.6102 757.178 Q74.2222 757.919 74.7052 759.078 Q75.2205 760.205 75.2205 761.429 Q75.2205 762.975 74.7697 764.36 Q74.3188 765.713 73.2882 766.679 Q72.2576 767.645 70.8405 767.645 Q69.2624 767.645 68.1674 766.582 Q67.0402 765.487 67.0402 764.006 Q67.0402 763.072 67.5877 762.331 Q68.1352 761.558 69.3269 761.558 Q70.6473 761.558 71.6457 762.46 Q72.6441 763.362 72.9017 764.65 Q73.7391 763.329 73.7391 761.365 Q73.7391 759.239 71.8711 757.565 Q70.0032 755.89 66.8792 755.085 Q59.3752 753.088 56.0258 752.315 Q52.6442 751.542 51.195 751.542 Q49.8423 751.542 48.9083 751.896 Q47.9744 752.251 47.5557 752.862 Q47.1048 753.442 46.9438 753.99 Q46.7828 754.505 46.7828 755.085 Q46.7828 756.051 47.1692 757.146 Q47.5557 758.209 48.4575 759.497 Q49.327 760.753 51.1305 761.944 Q52.9341 763.136 55.4139 763.941 Q56.1547 764.102 56.1547 764.811 Q56.1225 765.584 55.4783 765.584 Q54.9308 765.584 53.8036 765.165 Q52.6442 764.714 51.195 763.812 Q49.7457 762.878 48.4575 761.687 Q47.137 760.463 46.2353 758.692 Q45.3335 756.888 45.3335 754.956 Q45.3335 754.086 45.5267 753.249 Q45.6878 752.379 46.1708 751.349 Q46.6539 750.286 47.7167 749.352 Q48.7795 748.418 50.3254 747.838 Q49.5847 747.452 48.8761 746.937 Q48.1676 746.389 47.2981 745.552 Q46.3963 744.682 45.881 743.491 Q45.3335 742.267 45.3335 740.914 Q45.3335 739.594 45.6878 738.305 Q46.0098 737.017 47.0726 735.922 Q48.1032 734.795 49.6813 734.795 Z\" fill=\"#000000\" fill-rule=\"nonzero\" fill-opacity=\"1\" /><path clip-path=\"url(#clip690)\" d=\"M54.7431 728.074 Q53.9089 728.074 53.661 728.006 Q53.413 727.916 53.0297 727.555 L43.1554 718.695 Q37.6997 713.848 32.9429 713.848 Q29.8544 713.848 27.6451 715.472 Q25.4357 717.072 25.4357 720.025 Q25.4357 722.054 26.6757 723.768 Q27.9156 725.481 30.1249 726.27 Q30.0798 726.135 30.0798 725.661 Q30.0798 724.512 30.8012 723.88 Q31.5227 723.227 32.492 723.227 Q33.732 723.227 34.3407 724.038 Q34.9268 724.827 34.9268 725.616 Q34.9268 725.932 34.8592 726.36 Q34.7915 726.766 34.1603 727.42 Q33.5065 728.074 32.3568 728.074 Q29.133 728.074 26.563 725.639 Q23.9929 723.182 23.9929 719.439 Q23.9929 715.201 26.5179 712.428 Q29.0203 709.633 32.9429 709.633 Q34.3181 709.633 35.5806 710.061 Q36.8205 710.467 37.7899 711.03 Q38.7593 711.571 40.3149 713.059 Q41.8704 714.547 42.9751 715.742 Q44.0797 716.937 46.4243 719.62 L51.1811 724.512 L51.1811 716.193 Q51.1811 712.135 50.8204 711.819 Q50.1666 711.369 46.7174 710.805 L46.7174 709.633 L54.7431 710.94 L54.7431 728.074 Z\" fill=\"#000000\" fill-rule=\"nonzero\" fill-opacity=\"1\" /><polyline clip-path=\"url(#clip692)\" style=\"stroke:#009af9; stroke-linecap:round; stroke-linejoin:round; stroke-width:4; stroke-opacity:1; fill:none\" points=\"264.778,86.1857 467.495,553.485 670.211,916.939 872.927,1176.55 1075.64,1332.32 1278.36,1384.24 1481.08,1332.32 1683.79,1176.55 1886.51,916.939 2089.22,553.485 2291.94,86.1857 \"/>\n",
       "<path clip-path=\"url(#clip690)\" d=\"M1974.2 1377.32 L2281.13 1377.32 L2281.13 1273.64 L1974.2 1273.64  Z\" fill=\"#ffffff\" fill-rule=\"evenodd\" fill-opacity=\"1\"/>\n",
       "<polyline clip-path=\"url(#clip690)\" style=\"stroke:#000000; stroke-linecap:round; stroke-linejoin:round; stroke-width:4; stroke-opacity:1; fill:none\" points=\"1974.2,1377.32 2281.13,1377.32 2281.13,1273.64 1974.2,1273.64 1974.2,1377.32 \"/>\n",
       "<polyline clip-path=\"url(#clip690)\" style=\"stroke:#009af9; stroke-linecap:round; stroke-linejoin:round; stroke-width:4; stroke-opacity:1; fill:none\" points=\"1998.07,1325.48 2141.33,1325.48 \"/>\n",
       "<path clip-path=\"url(#clip690)\" d=\"M2189.11 1306.83 Q2189.11 1308.12 2188.3 1308.92 Q2187.5 1309.71 2186.49 1309.71 Q2185.77 1309.71 2185.23 1309.27 Q2184.71 1308.82 2184.71 1308.05 Q2184.71 1307.25 2185.32 1306.41 Q2185.93 1305.57 2187.31 1305.45 Q2186.4 1304.58 2184.95 1304.58 Q2184.22 1304.58 2183.61 1305.05 Q2183.03 1305.5 2182.7 1306.22 Q2182.35 1306.97 2181.55 1311.21 Q2181.29 1312.59 2181.06 1313.93 Q2180.82 1315.26 2180.54 1316.67 L2184.52 1316.67 Q2185.04 1316.67 2185.25 1316.69 Q2185.46 1316.72 2185.62 1316.83 Q2185.81 1316.95 2185.81 1317.21 Q2185.81 1317.86 2185.51 1318.03 Q2185.23 1318.17 2184.38 1318.17 L2180.26 1318.17 L2177.38 1333.37 Q2177.31 1333.81 2177.01 1335.22 Q2176.72 1336.6 2176.05 1338.87 Q2175.37 1341.17 2174.69 1342.53 Q2174.31 1343.3 2173.82 1344.03 Q2173.35 1344.78 2172.67 1345.52 Q2171.99 1346.27 2171.1 1346.72 Q2170.21 1347.19 2169.28 1347.19 Q2167.68 1347.19 2166.44 1346.3 Q2165.2 1345.41 2165.2 1343.89 Q2165.2 1342.6 2166 1341.8 Q2166.82 1341 2167.82 1341 Q2168.55 1341 2169.07 1341.45 Q2169.6 1341.89 2169.6 1342.67 Q2169.6 1343 2169.49 1343.37 Q2169.37 1343.74 2169.11 1344.17 Q2168.85 1344.61 2168.29 1344.92 Q2167.73 1345.22 2166.96 1345.27 Q2167.87 1346.13 2169.28 1346.13 Q2169.72 1346.13 2170.12 1345.95 Q2170.52 1345.78 2170.85 1345.36 Q2171.2 1344.94 2171.45 1344.52 Q2171.71 1344.12 2171.97 1343.35 Q2172.23 1342.6 2172.39 1342.03 Q2172.56 1341.47 2172.77 1340.47 Q2173 1339.46 2173.12 1338.85 Q2173.23 1338.26 2173.45 1337.12 L2177.03 1318.17 L2173.87 1318.17 Q2173.3 1318.17 2173.07 1318.14 Q2172.86 1318.12 2172.7 1318 Q2172.53 1317.86 2172.53 1317.58 Q2172.53 1317.14 2172.72 1316.95 Q2172.93 1316.74 2173.16 1316.72 Q2173.4 1316.67 2173.96 1316.67 L2177.29 1316.67 Q2178.41 1310.74 2178.86 1309.15 Q2179.37 1307.46 2180.17 1306.29 Q2180.96 1305.1 2181.85 1304.54 Q2182.74 1303.97 2183.47 1303.76 Q2184.22 1303.53 2184.95 1303.53 Q2186.59 1303.53 2187.85 1304.42 Q2189.11 1305.28 2189.11 1306.83 Z\" fill=\"#000000\" fill-rule=\"nonzero\" fill-opacity=\"1\" /><path clip-path=\"url(#clip690)\" d=\"M2195.57 1325.36 Q2195.57 1317.25 2198.59 1310.72 Q2199.88 1307.98 2201.68 1305.68 Q2203.48 1303.39 2204.68 1302.38 Q2205.87 1301.37 2206.2 1301.37 Q2206.67 1301.37 2206.69 1301.84 Q2206.69 1302.08 2206.06 1302.66 Q2198.33 1310.53 2198.35 1325.36 Q2198.35 1340.23 2205.87 1347.8 Q2206.69 1348.62 2206.69 1348.87 Q2206.69 1349.34 2206.2 1349.34 Q2205.87 1349.34 2204.73 1348.38 Q2203.58 1347.42 2201.8 1345.22 Q2200.02 1343.02 2198.73 1340.32 Q2195.57 1333.79 2195.57 1325.36 Z\" fill=\"#000000\" fill-rule=\"nonzero\" fill-opacity=\"1\" /><path clip-path=\"url(#clip690)\" d=\"M2234.23 1319.32 Q2234.23 1320.63 2233.41 1321.38 Q2232.59 1322.1 2231.65 1322.1 Q2230.76 1322.1 2230.29 1321.59 Q2229.82 1321.07 2229.82 1320.42 Q2229.82 1319.53 2230.48 1318.75 Q2231.13 1317.98 2232.12 1317.82 Q2231.16 1317.21 2229.73 1317.21 Q2228.79 1317.21 2227.97 1317.7 Q2227.18 1318.19 2226.68 1318.82 Q2226.22 1319.46 2225.79 1320.37 Q2225.4 1321.26 2225.23 1321.8 Q2225.09 1322.31 2224.97 1322.88 L2223.33 1329.43 Q2222.54 1332.55 2222.54 1333.65 Q2222.54 1335.01 2223.19 1335.92 Q2223.85 1336.81 2225.16 1336.81 Q2225.68 1336.81 2226.26 1336.67 Q2226.85 1336.51 2227.6 1336.09 Q2228.37 1335.64 2229.05 1334.98 Q2229.75 1334.31 2230.43 1333.16 Q2231.11 1332.01 2231.56 1330.53 Q2231.7 1330.02 2232.16 1330.02 Q2232.75 1330.02 2232.75 1330.49 Q2232.75 1330.89 2232.42 1331.73 Q2232.12 1332.55 2231.44 1333.63 Q2230.78 1334.68 2229.92 1335.64 Q2229.05 1336.58 2227.76 1337.23 Q2226.47 1337.89 2225.07 1337.89 Q2223.05 1337.89 2221.72 1336.81 Q2220.38 1335.73 2219.89 1334.24 Q2219.77 1334.45 2219.61 1334.73 Q2219.45 1335.01 2218.95 1335.64 Q2218.49 1336.25 2217.95 1336.72 Q2217.41 1337.16 2216.57 1337.51 Q2215.75 1337.89 2214.86 1337.89 Q2213.73 1337.89 2212.72 1337.56 Q2211.74 1337.23 2211.04 1336.48 Q2210.34 1335.73 2210.34 1334.7 Q2210.34 1333.56 2211.11 1332.76 Q2211.9 1331.94 2212.98 1331.94 Q2213.66 1331.94 2214.2 1332.34 Q2214.76 1332.74 2214.76 1333.6 Q2214.76 1334.56 2214.11 1335.29 Q2213.45 1336.02 2212.51 1336.2 Q2213.47 1336.81 2214.9 1336.81 Q2216.45 1336.81 2217.67 1335.45 Q2218.88 1334.09 2219.47 1331.82 Q2220.92 1326.37 2221.48 1323.93 Q2222.05 1321.47 2222.05 1320.42 Q2222.05 1319.43 2221.79 1318.75 Q2221.53 1318.07 2221.09 1317.77 Q2220.66 1317.44 2220.27 1317.32 Q2219.89 1317.21 2219.47 1317.21 Q2218.77 1317.21 2217.97 1317.49 Q2217.2 1317.77 2216.26 1318.42 Q2215.35 1319.06 2214.48 1320.37 Q2213.61 1321.68 2213.03 1323.48 Q2212.91 1324.02 2212.4 1324.02 Q2211.83 1324 2211.83 1323.53 Q2211.83 1323.13 2212.14 1322.31 Q2212.47 1321.47 2213.12 1320.42 Q2213.8 1319.36 2214.67 1318.42 Q2215.56 1317.46 2216.85 1316.81 Q2218.16 1316.15 2219.56 1316.15 Q2220.2 1316.15 2220.8 1316.29 Q2221.44 1316.41 2222.19 1316.76 Q2222.96 1317.11 2223.64 1317.89 Q2224.32 1318.66 2224.74 1319.78 Q2225.02 1319.24 2225.4 1318.73 Q2225.79 1318.21 2226.4 1317.58 Q2227.04 1316.93 2227.9 1316.55 Q2228.79 1316.15 2229.78 1316.15 Q2230.74 1316.15 2231.67 1316.41 Q2232.61 1316.64 2233.41 1317.42 Q2234.23 1318.17 2234.23 1319.32 Z\" fill=\"#000000\" fill-rule=\"nonzero\" fill-opacity=\"1\" /><path clip-path=\"url(#clip690)\" d=\"M2238.84 1348.87 Q2238.84 1348.64 2239.45 1348.05 Q2247.18 1340.18 2247.18 1325.36 Q2247.18 1310.48 2239.75 1302.97 Q2238.84 1302.1 2238.84 1301.84 Q2238.84 1301.37 2239.31 1301.37 Q2239.63 1301.37 2240.78 1302.33 Q2241.95 1303.29 2243.71 1305.5 Q2245.49 1307.7 2246.8 1310.39 Q2249.96 1316.93 2249.96 1325.36 Q2249.96 1333.46 2246.94 1340 Q2245.65 1342.74 2243.85 1345.03 Q2242.05 1347.33 2240.85 1348.34 Q2239.66 1349.34 2239.31 1349.34 Q2238.84 1349.34 2238.84 1348.87 Z\" fill=\"#000000\" fill-rule=\"nonzero\" fill-opacity=\"1\" /></svg>\n"
      ],
      "text/html": [
       "<?xml version=\"1.0\" encoding=\"utf-8\"?>\n",
       "<svg xmlns=\"http://www.w3.org/2000/svg\" xmlns:xlink=\"http://www.w3.org/1999/xlink\" width=\"600\" height=\"400\" viewBox=\"0 0 2400 1600\">\n",
       "<defs>\n",
       "  <clipPath id=\"clip740\">\n",
       "    <rect x=\"0\" y=\"0\" width=\"2400\" height=\"1600\"/>\n",
       "  </clipPath>\n",
       "</defs>\n",
       "<path clip-path=\"url(#clip740)\" d=\"M0 1600 L2400 1600 L2400 8.88178e-14 L0 8.88178e-14  Z\" fill=\"#ffffff\" fill-rule=\"evenodd\" fill-opacity=\"1\"/>\n",
       "<defs>\n",
       "  <clipPath id=\"clip741\">\n",
       "    <rect x=\"480\" y=\"0\" width=\"1681\" height=\"1600\"/>\n",
       "  </clipPath>\n",
       "</defs>\n",
       "<path clip-path=\"url(#clip740)\" d=\"M203.964 1423.18 L2352.76 1423.18 L2352.76 47.2441 L203.964 47.2441  Z\" fill=\"#ffffff\" fill-rule=\"evenodd\" fill-opacity=\"1\"/>\n",
       "<defs>\n",
       "  <clipPath id=\"clip742\">\n",
       "    <rect x=\"203\" y=\"47\" width=\"2150\" height=\"1377\"/>\n",
       "  </clipPath>\n",
       "</defs>\n",
       "<polyline clip-path=\"url(#clip742)\" style=\"stroke:#000000; stroke-linecap:round; stroke-linejoin:round; stroke-width:2; stroke-opacity:0.1; fill:none\" points=\"467.495,1423.18 467.495,47.2441 \"/>\n",
       "<polyline clip-path=\"url(#clip742)\" style=\"stroke:#000000; stroke-linecap:round; stroke-linejoin:round; stroke-width:2; stroke-opacity:0.1; fill:none\" points=\"872.927,1423.18 872.927,47.2441 \"/>\n",
       "<polyline clip-path=\"url(#clip742)\" style=\"stroke:#000000; stroke-linecap:round; stroke-linejoin:round; stroke-width:2; stroke-opacity:0.1; fill:none\" points=\"1278.36,1423.18 1278.36,47.2441 \"/>\n",
       "<polyline clip-path=\"url(#clip742)\" style=\"stroke:#000000; stroke-linecap:round; stroke-linejoin:round; stroke-width:2; stroke-opacity:0.1; fill:none\" points=\"1683.79,1423.18 1683.79,47.2441 \"/>\n",
       "<polyline clip-path=\"url(#clip742)\" style=\"stroke:#000000; stroke-linecap:round; stroke-linejoin:round; stroke-width:2; stroke-opacity:0.1; fill:none\" points=\"2089.22,1423.18 2089.22,47.2441 \"/>\n",
       "<polyline clip-path=\"url(#clip740)\" style=\"stroke:#000000; stroke-linecap:round; stroke-linejoin:round; stroke-width:4; stroke-opacity:1; fill:none\" points=\"203.964,1423.18 2352.76,1423.18 \"/>\n",
       "<polyline clip-path=\"url(#clip740)\" style=\"stroke:#000000; stroke-linecap:round; stroke-linejoin:round; stroke-width:4; stroke-opacity:1; fill:none\" points=\"467.495,1423.18 467.495,1404.28 \"/>\n",
       "<polyline clip-path=\"url(#clip740)\" style=\"stroke:#000000; stroke-linecap:round; stroke-linejoin:round; stroke-width:4; stroke-opacity:1; fill:none\" points=\"872.927,1423.18 872.927,1404.28 \"/>\n",
       "<polyline clip-path=\"url(#clip740)\" style=\"stroke:#000000; stroke-linecap:round; stroke-linejoin:round; stroke-width:4; stroke-opacity:1; fill:none\" points=\"1278.36,1423.18 1278.36,1404.28 \"/>\n",
       "<polyline clip-path=\"url(#clip740)\" style=\"stroke:#000000; stroke-linecap:round; stroke-linejoin:round; stroke-width:4; stroke-opacity:1; fill:none\" points=\"1683.79,1423.18 1683.79,1404.28 \"/>\n",
       "<polyline clip-path=\"url(#clip740)\" style=\"stroke:#000000; stroke-linecap:round; stroke-linejoin:round; stroke-width:4; stroke-opacity:1; fill:none\" points=\"2089.22,1423.18 2089.22,1404.28 \"/>\n",
       "<path clip-path=\"url(#clip740)\" d=\"M462.148 1481.64 L478.467 1481.64 L478.467 1485.58 L456.523 1485.58 L456.523 1481.64 Q459.185 1478.89 463.768 1474.26 Q468.374 1469.61 469.555 1468.27 Q471.8 1465.74 472.68 1464.01 Q473.583 1462.25 473.583 1460.56 Q473.583 1457.8 471.638 1456.07 Q469.717 1454.33 466.615 1454.33 Q464.416 1454.33 461.962 1455.09 Q459.532 1455.86 456.754 1457.41 L456.754 1452.69 Q459.578 1451.55 462.032 1450.97 Q464.485 1450.39 466.522 1450.39 Q471.893 1450.39 475.087 1453.08 Q478.282 1455.77 478.282 1460.26 Q478.282 1462.39 477.472 1464.31 Q476.684 1466.2 474.578 1468.8 Q473.999 1469.47 470.897 1472.69 Q467.796 1475.88 462.148 1481.64 Z\" fill=\"#000000\" fill-rule=\"nonzero\" fill-opacity=\"1\" /><path clip-path=\"url(#clip740)\" d=\"M875.936 1455.09 L864.131 1473.54 L875.936 1473.54 L875.936 1455.09 M874.71 1451.02 L880.589 1451.02 L880.589 1473.54 L885.52 1473.54 L885.52 1477.43 L880.589 1477.43 L880.589 1485.58 L875.936 1485.58 L875.936 1477.43 L860.335 1477.43 L860.335 1472.92 L874.71 1451.02 Z\" fill=\"#000000\" fill-rule=\"nonzero\" fill-opacity=\"1\" /><path clip-path=\"url(#clip740)\" d=\"M1278.76 1466.44 Q1275.62 1466.44 1273.76 1468.59 Q1271.94 1470.74 1271.94 1474.49 Q1271.94 1478.22 1273.76 1480.39 Q1275.62 1482.55 1278.76 1482.55 Q1281.91 1482.55 1283.74 1480.39 Q1285.59 1478.22 1285.59 1474.49 Q1285.59 1470.74 1283.74 1468.59 Q1281.91 1466.44 1278.76 1466.44 M1288.05 1451.78 L1288.05 1456.04 Q1286.29 1455.21 1284.48 1454.77 Q1282.7 1454.33 1280.94 1454.33 Q1276.31 1454.33 1273.86 1457.45 Q1271.43 1460.58 1271.08 1466.9 Q1272.45 1464.89 1274.51 1463.82 Q1276.57 1462.73 1279.04 1462.73 Q1284.25 1462.73 1287.26 1465.9 Q1290.29 1469.05 1290.29 1474.49 Q1290.29 1479.82 1287.14 1483.03 Q1284 1486.25 1278.76 1486.25 Q1272.77 1486.25 1269.6 1481.67 Q1266.43 1477.06 1266.43 1468.33 Q1266.43 1460.14 1270.32 1455.28 Q1274.2 1450.39 1280.76 1450.39 Q1282.51 1450.39 1284.3 1450.74 Q1286.1 1451.09 1288.05 1451.78 Z\" fill=\"#000000\" fill-rule=\"nonzero\" fill-opacity=\"1\" /><path clip-path=\"url(#clip740)\" d=\"M1683.79 1469.17 Q1680.46 1469.17 1678.54 1470.95 Q1676.64 1472.73 1676.64 1475.86 Q1676.64 1478.98 1678.54 1480.77 Q1680.46 1482.55 1683.79 1482.55 Q1687.13 1482.55 1689.05 1480.77 Q1690.97 1478.96 1690.97 1475.86 Q1690.97 1472.73 1689.05 1470.95 Q1687.15 1469.17 1683.79 1469.17 M1679.12 1467.18 Q1676.11 1466.44 1674.42 1464.38 Q1672.75 1462.32 1672.75 1459.35 Q1672.75 1455.21 1675.69 1452.8 Q1678.65 1450.39 1683.79 1450.39 Q1688.95 1450.39 1691.89 1452.8 Q1694.83 1455.21 1694.83 1459.35 Q1694.83 1462.32 1693.14 1464.38 Q1691.48 1466.44 1688.49 1467.18 Q1691.87 1467.96 1693.75 1470.26 Q1695.64 1472.55 1695.64 1475.86 Q1695.64 1480.88 1692.57 1483.57 Q1689.51 1486.25 1683.79 1486.25 Q1678.07 1486.25 1675 1483.57 Q1671.94 1480.88 1671.94 1475.86 Q1671.94 1472.55 1673.84 1470.26 Q1675.74 1467.96 1679.12 1467.18 M1677.4 1459.79 Q1677.4 1462.48 1679.07 1463.98 Q1680.76 1465.49 1683.79 1465.49 Q1686.8 1465.49 1688.49 1463.98 Q1690.2 1462.48 1690.2 1459.79 Q1690.2 1457.11 1688.49 1455.6 Q1686.8 1454.1 1683.79 1454.1 Q1680.76 1454.1 1679.07 1455.6 Q1677.4 1457.11 1677.4 1459.79 Z\" fill=\"#000000\" fill-rule=\"nonzero\" fill-opacity=\"1\" /><path clip-path=\"url(#clip740)\" d=\"M2063.91 1481.64 L2071.55 1481.64 L2071.55 1455.28 L2063.24 1456.95 L2063.24 1452.69 L2071.5 1451.02 L2076.18 1451.02 L2076.18 1481.64 L2083.82 1481.64 L2083.82 1485.58 L2063.91 1485.58 L2063.91 1481.64 Z\" fill=\"#000000\" fill-rule=\"nonzero\" fill-opacity=\"1\" /><path clip-path=\"url(#clip740)\" d=\"M2103.26 1454.1 Q2099.65 1454.1 2097.82 1457.66 Q2096.02 1461.2 2096.02 1468.33 Q2096.02 1475.44 2097.82 1479.01 Q2099.65 1482.55 2103.26 1482.55 Q2106.9 1482.55 2108.7 1479.01 Q2110.53 1475.44 2110.53 1468.33 Q2110.53 1461.2 2108.7 1457.66 Q2106.9 1454.1 2103.26 1454.1 M2103.26 1450.39 Q2109.07 1450.39 2112.13 1455 Q2115.21 1459.58 2115.21 1468.33 Q2115.21 1477.06 2112.13 1481.67 Q2109.07 1486.25 2103.26 1486.25 Q2097.45 1486.25 2094.38 1481.67 Q2091.32 1477.06 2091.32 1468.33 Q2091.32 1459.58 2094.38 1455 Q2097.45 1450.39 2103.26 1450.39 Z\" fill=\"#000000\" fill-rule=\"nonzero\" fill-opacity=\"1\" /><path clip-path=\"url(#clip740)\" d=\"M1292.53 1528.8 Q1292.53 1530.61 1291.41 1531.64 Q1290.28 1532.64 1288.99 1532.64 Q1287.77 1532.64 1287.12 1531.93 Q1286.48 1531.22 1286.48 1530.32 Q1286.48 1529.09 1287.38 1528.03 Q1288.28 1526.97 1289.63 1526.74 Q1288.31 1525.91 1286.35 1525.91 Q1285.06 1525.91 1283.93 1526.58 Q1282.84 1527.26 1282.16 1528.13 Q1281.52 1529 1280.94 1530.25 Q1280.39 1531.48 1280.17 1532.22 Q1279.97 1532.93 1279.81 1533.7 L1277.56 1542.72 Q1276.46 1547 1276.46 1548.51 Q1276.46 1550.38 1277.36 1551.64 Q1278.27 1552.86 1280.07 1552.86 Q1280.78 1552.86 1281.58 1552.67 Q1282.39 1552.44 1283.42 1551.86 Q1284.48 1551.25 1285.42 1550.35 Q1286.38 1549.42 1287.32 1547.84 Q1288.25 1546.26 1288.86 1544.23 Q1289.05 1543.52 1289.7 1543.52 Q1290.5 1543.52 1290.5 1544.17 Q1290.5 1544.71 1290.05 1545.87 Q1289.63 1547 1288.7 1548.48 Q1287.8 1549.93 1286.61 1551.25 Q1285.42 1552.54 1283.64 1553.44 Q1281.87 1554.34 1279.94 1554.34 Q1277.17 1554.34 1275.34 1552.86 Q1273.5 1551.38 1272.82 1549.32 Q1272.66 1549.61 1272.44 1550 Q1272.21 1550.38 1271.53 1551.25 Q1270.89 1552.09 1270.15 1552.73 Q1269.41 1553.34 1268.25 1553.83 Q1267.12 1554.34 1265.9 1554.34 Q1264.35 1554.34 1262.97 1553.89 Q1261.62 1553.44 1260.65 1552.41 Q1259.68 1551.38 1259.68 1549.96 Q1259.68 1548.38 1260.75 1547.29 Q1261.84 1546.16 1263.32 1546.16 Q1264.26 1546.16 1265 1546.71 Q1265.77 1547.26 1265.77 1548.45 Q1265.77 1549.77 1264.87 1550.77 Q1263.97 1551.77 1262.68 1552.02 Q1264 1552.86 1265.96 1552.86 Q1268.09 1552.86 1269.76 1550.99 Q1271.44 1549.13 1272.24 1546 Q1274.24 1538.5 1275.01 1535.15 Q1275.79 1531.77 1275.79 1530.32 Q1275.79 1528.96 1275.43 1528.03 Q1275.08 1527.1 1274.47 1526.68 Q1273.89 1526.23 1273.34 1526.07 Q1272.82 1525.91 1272.24 1525.91 Q1271.28 1525.91 1270.18 1526.29 Q1269.12 1526.68 1267.83 1527.58 Q1266.58 1528.45 1265.38 1530.25 Q1264.19 1532.06 1263.39 1534.54 Q1263.23 1535.28 1262.52 1535.28 Q1261.74 1535.24 1261.74 1534.6 Q1261.74 1534.05 1262.16 1532.93 Q1262.61 1531.77 1263.52 1530.32 Q1264.45 1528.87 1265.64 1527.58 Q1266.87 1526.26 1268.64 1525.36 Q1270.44 1524.46 1272.37 1524.46 Q1273.24 1524.46 1274.08 1524.65 Q1274.95 1524.81 1275.98 1525.29 Q1277.04 1525.78 1277.98 1526.84 Q1278.91 1527.9 1279.49 1529.45 Q1279.88 1528.71 1280.39 1528 Q1280.94 1527.29 1281.78 1526.42 Q1282.65 1525.52 1283.84 1525 Q1285.06 1524.46 1286.41 1524.46 Q1287.73 1524.46 1289.02 1524.81 Q1290.31 1525.13 1291.41 1526.19 Q1292.53 1527.23 1292.53 1528.8 Z\" fill=\"#000000\" fill-rule=\"nonzero\" fill-opacity=\"1\" /><polyline clip-path=\"url(#clip742)\" style=\"stroke:#000000; stroke-linecap:round; stroke-linejoin:round; stroke-width:2; stroke-opacity:0.1; fill:none\" points=\"203.964,1384.24 2352.76,1384.24 \"/>\n",
       "<polyline clip-path=\"url(#clip742)\" style=\"stroke:#000000; stroke-linecap:round; stroke-linejoin:round; stroke-width:2; stroke-opacity:0.1; fill:none\" points=\"203.964,1124.63 2352.76,1124.63 \"/>\n",
       "<polyline clip-path=\"url(#clip742)\" style=\"stroke:#000000; stroke-linecap:round; stroke-linejoin:round; stroke-width:2; stroke-opacity:0.1; fill:none\" points=\"203.964,865.017 2352.76,865.017 \"/>\n",
       "<polyline clip-path=\"url(#clip742)\" style=\"stroke:#000000; stroke-linecap:round; stroke-linejoin:round; stroke-width:2; stroke-opacity:0.1; fill:none\" points=\"203.964,605.407 2352.76,605.407 \"/>\n",
       "<polyline clip-path=\"url(#clip742)\" style=\"stroke:#000000; stroke-linecap:round; stroke-linejoin:round; stroke-width:2; stroke-opacity:0.1; fill:none\" points=\"203.964,345.796 2352.76,345.796 \"/>\n",
       "<polyline clip-path=\"url(#clip742)\" style=\"stroke:#000000; stroke-linecap:round; stroke-linejoin:round; stroke-width:2; stroke-opacity:0.1; fill:none\" points=\"203.964,86.1857 2352.76,86.1857 \"/>\n",
       "<polyline clip-path=\"url(#clip740)\" style=\"stroke:#000000; stroke-linecap:round; stroke-linejoin:round; stroke-width:4; stroke-opacity:1; fill:none\" points=\"203.964,1423.18 203.964,47.2441 \"/>\n",
       "<polyline clip-path=\"url(#clip740)\" style=\"stroke:#000000; stroke-linecap:round; stroke-linejoin:round; stroke-width:4; stroke-opacity:1; fill:none\" points=\"203.964,1384.24 222.861,1384.24 \"/>\n",
       "<polyline clip-path=\"url(#clip740)\" style=\"stroke:#000000; stroke-linecap:round; stroke-linejoin:round; stroke-width:4; stroke-opacity:1; fill:none\" points=\"203.964,1124.63 222.861,1124.63 \"/>\n",
       "<polyline clip-path=\"url(#clip740)\" style=\"stroke:#000000; stroke-linecap:round; stroke-linejoin:round; stroke-width:4; stroke-opacity:1; fill:none\" points=\"203.964,865.017 222.861,865.017 \"/>\n",
       "<polyline clip-path=\"url(#clip740)\" style=\"stroke:#000000; stroke-linecap:round; stroke-linejoin:round; stroke-width:4; stroke-opacity:1; fill:none\" points=\"203.964,605.407 222.861,605.407 \"/>\n",
       "<polyline clip-path=\"url(#clip740)\" style=\"stroke:#000000; stroke-linecap:round; stroke-linejoin:round; stroke-width:4; stroke-opacity:1; fill:none\" points=\"203.964,345.796 222.861,345.796 \"/>\n",
       "<polyline clip-path=\"url(#clip740)\" style=\"stroke:#000000; stroke-linecap:round; stroke-linejoin:round; stroke-width:4; stroke-opacity:1; fill:none\" points=\"203.964,86.1857 222.861,86.1857 \"/>\n",
       "<path clip-path=\"url(#clip740)\" d=\"M156.019 1370.04 Q152.408 1370.04 150.579 1373.6 Q148.774 1377.14 148.774 1384.27 Q148.774 1391.38 150.579 1394.94 Q152.408 1398.49 156.019 1398.49 Q159.653 1398.49 161.459 1394.94 Q163.288 1391.38 163.288 1384.27 Q163.288 1377.14 161.459 1373.6 Q159.653 1370.04 156.019 1370.04 M156.019 1366.33 Q161.829 1366.33 164.885 1370.94 Q167.964 1375.52 167.964 1384.27 Q167.964 1393 164.885 1397.61 Q161.829 1402.19 156.019 1402.19 Q150.209 1402.19 147.13 1397.61 Q144.075 1393 144.075 1384.27 Q144.075 1375.52 147.13 1370.94 Q150.209 1366.33 156.019 1366.33 Z\" fill=\"#000000\" fill-rule=\"nonzero\" fill-opacity=\"1\" /><path clip-path=\"url(#clip740)\" d=\"M147.061 1107.35 L165.417 1107.35 L165.417 1111.28 L151.343 1111.28 L151.343 1119.76 Q152.362 1119.41 153.38 1119.25 Q154.399 1119.06 155.417 1119.06 Q161.204 1119.06 164.584 1122.23 Q167.964 1125.4 167.964 1130.82 Q167.964 1136.4 164.491 1139.5 Q161.019 1142.58 154.7 1142.58 Q152.524 1142.58 150.255 1142.21 Q148.01 1141.84 145.603 1141.1 L145.603 1136.4 Q147.686 1137.53 149.908 1138.09 Q152.13 1138.64 154.607 1138.64 Q158.612 1138.64 160.95 1136.54 Q163.288 1134.43 163.288 1130.82 Q163.288 1127.21 160.95 1125.1 Q158.612 1123 154.607 1123 Q152.732 1123 150.857 1123.41 Q149.005 1123.83 147.061 1124.71 L147.061 1107.35 Z\" fill=\"#000000\" fill-rule=\"nonzero\" fill-opacity=\"1\" /><path clip-path=\"url(#clip740)\" d=\"M116.668 878.362 L124.306 878.362 L124.306 851.996 L115.996 853.663 L115.996 849.404 L124.26 847.737 L128.936 847.737 L128.936 878.362 L136.575 878.362 L136.575 882.297 L116.668 882.297 L116.668 878.362 Z\" fill=\"#000000\" fill-rule=\"nonzero\" fill-opacity=\"1\" /><path clip-path=\"url(#clip740)\" d=\"M156.019 850.816 Q152.408 850.816 150.579 854.381 Q148.774 857.922 148.774 865.052 Q148.774 872.158 150.579 875.723 Q152.408 879.265 156.019 879.265 Q159.653 879.265 161.459 875.723 Q163.288 872.158 163.288 865.052 Q163.288 857.922 161.459 854.381 Q159.653 850.816 156.019 850.816 M156.019 847.112 Q161.829 847.112 164.885 851.719 Q167.964 856.302 167.964 865.052 Q167.964 873.779 164.885 878.385 Q161.829 882.969 156.019 882.969 Q150.209 882.969 147.13 878.385 Q144.075 873.779 144.075 865.052 Q144.075 856.302 147.13 851.719 Q150.209 847.112 156.019 847.112 Z\" fill=\"#000000\" fill-rule=\"nonzero\" fill-opacity=\"1\" /><path clip-path=\"url(#clip740)\" d=\"M117.663 618.752 L125.302 618.752 L125.302 592.386 L116.992 594.053 L116.992 589.793 L125.255 588.127 L129.931 588.127 L129.931 618.752 L137.57 618.752 L137.57 622.687 L117.663 622.687 L117.663 618.752 Z\" fill=\"#000000\" fill-rule=\"nonzero\" fill-opacity=\"1\" /><path clip-path=\"url(#clip740)\" d=\"M147.061 588.127 L165.417 588.127 L165.417 592.062 L151.343 592.062 L151.343 600.534 Q152.362 600.187 153.38 600.025 Q154.399 599.84 155.417 599.84 Q161.204 599.84 164.584 603.011 Q167.964 606.182 167.964 611.599 Q167.964 617.177 164.491 620.279 Q161.019 623.358 154.7 623.358 Q152.524 623.358 150.255 622.988 Q148.01 622.617 145.603 621.877 L145.603 617.177 Q147.686 618.312 149.908 618.867 Q152.13 619.423 154.607 619.423 Q158.612 619.423 160.95 617.316 Q163.288 615.21 163.288 611.599 Q163.288 607.988 160.95 605.881 Q158.612 603.775 154.607 603.775 Q152.732 603.775 150.857 604.191 Q149.005 604.608 147.061 605.488 L147.061 588.127 Z\" fill=\"#000000\" fill-rule=\"nonzero\" fill-opacity=\"1\" /><path clip-path=\"url(#clip740)\" d=\"M119.885 359.141 L136.204 359.141 L136.204 363.076 L114.26 363.076 L114.26 359.141 Q116.922 356.386 121.505 351.757 Q126.112 347.104 127.292 345.761 Q129.538 343.238 130.417 341.502 Q131.32 339.743 131.32 338.053 Q131.32 335.299 129.376 333.562 Q127.455 331.826 124.353 331.826 Q122.154 331.826 119.7 332.59 Q117.269 333.354 114.492 334.905 L114.492 330.183 Q117.316 329.049 119.769 328.47 Q122.223 327.891 124.26 327.891 Q129.63 327.891 132.825 330.576 Q136.019 333.262 136.019 337.752 Q136.019 339.882 135.209 341.803 Q134.422 343.701 132.316 346.294 Q131.737 346.965 128.635 350.183 Q125.533 353.377 119.885 359.141 Z\" fill=\"#000000\" fill-rule=\"nonzero\" fill-opacity=\"1\" /><path clip-path=\"url(#clip740)\" d=\"M156.019 331.595 Q152.408 331.595 150.579 335.16 Q148.774 338.701 148.774 345.831 Q148.774 352.937 150.579 356.502 Q152.408 360.044 156.019 360.044 Q159.653 360.044 161.459 356.502 Q163.288 352.937 163.288 345.831 Q163.288 338.701 161.459 335.16 Q159.653 331.595 156.019 331.595 M156.019 327.891 Q161.829 327.891 164.885 332.498 Q167.964 337.081 167.964 345.831 Q167.964 354.558 164.885 359.164 Q161.829 363.747 156.019 363.747 Q150.209 363.747 147.13 359.164 Q144.075 354.558 144.075 345.831 Q144.075 337.081 147.13 332.498 Q150.209 327.891 156.019 327.891 Z\" fill=\"#000000\" fill-rule=\"nonzero\" fill-opacity=\"1\" /><path clip-path=\"url(#clip740)\" d=\"M120.88 99.5305 L137.2 99.5305 L137.2 103.466 L115.256 103.466 L115.256 99.5305 Q117.918 96.7759 122.501 92.1463 Q127.107 87.4935 128.288 86.151 Q130.533 83.6278 131.413 81.8917 Q132.316 80.1325 132.316 78.4427 Q132.316 75.688 130.371 73.9519 Q128.45 72.2158 125.348 72.2158 Q123.149 72.2158 120.695 72.9797 Q118.265 73.7436 115.487 75.2945 L115.487 70.5723 Q118.311 69.4381 120.765 68.8594 Q123.218 68.2807 125.255 68.2807 Q130.626 68.2807 133.82 70.9658 Q137.015 73.651 137.015 78.1417 Q137.015 80.2714 136.204 82.1926 Q135.417 84.0908 133.311 86.6834 Q132.732 87.3546 129.63 90.5722 Q126.529 93.7667 120.88 99.5305 Z\" fill=\"#000000\" fill-rule=\"nonzero\" fill-opacity=\"1\" /><path clip-path=\"url(#clip740)\" d=\"M147.061 68.9057 L165.417 68.9057 L165.417 72.8408 L151.343 72.8408 L151.343 81.313 Q152.362 80.9658 153.38 80.8038 Q154.399 80.6186 155.417 80.6186 Q161.204 80.6186 164.584 83.7899 Q167.964 86.9611 167.964 92.3778 Q167.964 97.9564 164.491 101.058 Q161.019 104.137 154.7 104.137 Q152.524 104.137 150.255 103.767 Q148.01 103.396 145.603 102.655 L145.603 97.9564 Q147.686 99.0907 149.908 99.6462 Q152.13 100.202 154.607 100.202 Q158.612 100.202 160.95 98.0953 Q163.288 95.9889 163.288 92.3778 Q163.288 88.7667 160.95 86.6602 Q158.612 84.5537 154.607 84.5537 Q152.732 84.5537 150.857 84.9704 Q149.005 85.3871 147.061 86.2667 L147.061 68.9057 Z\" fill=\"#000000\" fill-rule=\"nonzero\" fill-opacity=\"1\" /><path clip-path=\"url(#clip740)\" d=\"M49.6813 734.795 Q51.4848 734.795 52.5154 735.922 Q53.5138 737.049 53.5138 738.338 Q53.5138 739.561 52.8053 740.206 Q52.0967 740.85 51.195 740.85 Q49.9711 740.85 48.9083 739.948 Q47.8456 739.046 47.6201 737.693 Q46.7828 739.014 46.7828 740.978 Q46.7828 742.267 47.4591 743.394 Q48.1354 744.489 49.005 745.165 Q49.8745 745.809 51.1305 746.389 Q52.3544 746.937 53.0951 747.162 Q53.8036 747.355 54.5766 747.516 L63.5942 749.771 Q67.8776 750.866 69.3913 750.866 Q71.2592 750.866 72.5152 749.964 Q73.7391 749.062 73.7391 747.259 Q73.7391 746.55 73.5458 745.745 Q73.3204 744.94 72.7407 743.909 Q72.1288 742.846 71.227 741.912 Q70.293 740.946 68.7149 740.012 Q67.1369 739.078 65.1079 738.466 Q64.3994 738.273 64.3994 737.629 Q64.3994 736.824 65.0435 736.824 Q65.591 736.824 66.7504 737.275 Q67.8776 737.693 69.3591 738.627 Q70.8083 739.529 72.1288 740.721 Q73.417 741.912 74.3188 743.684 Q75.2205 745.455 75.2205 747.387 Q75.2205 750.157 73.7391 751.993 Q72.2576 753.829 70.1964 754.505 Q70.4863 754.666 70.8727 754.891 Q71.2592 755.117 72.1288 755.793 Q72.9661 756.437 73.6102 757.178 Q74.2222 757.919 74.7052 759.078 Q75.2205 760.205 75.2205 761.429 Q75.2205 762.975 74.7697 764.36 Q74.3188 765.713 73.2882 766.679 Q72.2576 767.645 70.8405 767.645 Q69.2624 767.645 68.1674 766.582 Q67.0402 765.487 67.0402 764.006 Q67.0402 763.072 67.5877 762.331 Q68.1352 761.558 69.3269 761.558 Q70.6473 761.558 71.6457 762.46 Q72.6441 763.362 72.9017 764.65 Q73.7391 763.329 73.7391 761.365 Q73.7391 759.239 71.8711 757.565 Q70.0032 755.89 66.8792 755.085 Q59.3752 753.088 56.0258 752.315 Q52.6442 751.542 51.195 751.542 Q49.8423 751.542 48.9083 751.896 Q47.9744 752.251 47.5557 752.862 Q47.1048 753.442 46.9438 753.99 Q46.7828 754.505 46.7828 755.085 Q46.7828 756.051 47.1692 757.146 Q47.5557 758.209 48.4575 759.497 Q49.327 760.753 51.1305 761.944 Q52.9341 763.136 55.4139 763.941 Q56.1547 764.102 56.1547 764.811 Q56.1225 765.584 55.4783 765.584 Q54.9308 765.584 53.8036 765.165 Q52.6442 764.714 51.195 763.812 Q49.7457 762.878 48.4575 761.687 Q47.137 760.463 46.2353 758.692 Q45.3335 756.888 45.3335 754.956 Q45.3335 754.086 45.5267 753.249 Q45.6878 752.379 46.1708 751.349 Q46.6539 750.286 47.7167 749.352 Q48.7795 748.418 50.3254 747.838 Q49.5847 747.452 48.8761 746.937 Q48.1676 746.389 47.2981 745.552 Q46.3963 744.682 45.881 743.491 Q45.3335 742.267 45.3335 740.914 Q45.3335 739.594 45.6878 738.305 Q46.0098 737.017 47.0726 735.922 Q48.1032 734.795 49.6813 734.795 Z\" fill=\"#000000\" fill-rule=\"nonzero\" fill-opacity=\"1\" /><path clip-path=\"url(#clip740)\" d=\"M54.7431 728.074 Q53.9089 728.074 53.661 728.006 Q53.413 727.916 53.0297 727.555 L43.1554 718.695 Q37.6997 713.848 32.9429 713.848 Q29.8544 713.848 27.6451 715.472 Q25.4357 717.072 25.4357 720.025 Q25.4357 722.054 26.6757 723.768 Q27.9156 725.481 30.1249 726.27 Q30.0798 726.135 30.0798 725.661 Q30.0798 724.512 30.8012 723.88 Q31.5227 723.227 32.492 723.227 Q33.732 723.227 34.3407 724.038 Q34.9268 724.827 34.9268 725.616 Q34.9268 725.932 34.8592 726.36 Q34.7915 726.766 34.1603 727.42 Q33.5065 728.074 32.3568 728.074 Q29.133 728.074 26.563 725.639 Q23.9929 723.182 23.9929 719.439 Q23.9929 715.201 26.5179 712.428 Q29.0203 709.633 32.9429 709.633 Q34.3181 709.633 35.5806 710.061 Q36.8205 710.467 37.7899 711.03 Q38.7593 711.571 40.3149 713.059 Q41.8704 714.547 42.9751 715.742 Q44.0797 716.937 46.4243 719.62 L51.1811 724.512 L51.1811 716.193 Q51.1811 712.135 50.8204 711.819 Q50.1666 711.369 46.7174 710.805 L46.7174 709.633 L54.7431 710.94 L54.7431 728.074 Z\" fill=\"#000000\" fill-rule=\"nonzero\" fill-opacity=\"1\" /><polyline clip-path=\"url(#clip742)\" style=\"stroke:#009af9; stroke-linecap:round; stroke-linejoin:round; stroke-width:4; stroke-opacity:1; fill:none\" points=\"264.778,86.1857 467.495,553.485 670.211,916.939 872.927,1176.55 1075.64,1332.32 1278.36,1384.24 1481.08,1332.32 1683.79,1176.55 1886.51,916.939 2089.22,553.485 2291.94,86.1857 \"/>\n",
       "<path clip-path=\"url(#clip740)\" d=\"M1974.2 1377.32 L2281.13 1377.32 L2281.13 1273.64 L1974.2 1273.64  Z\" fill=\"#ffffff\" fill-rule=\"evenodd\" fill-opacity=\"1\"/>\n",
       "<polyline clip-path=\"url(#clip740)\" style=\"stroke:#000000; stroke-linecap:round; stroke-linejoin:round; stroke-width:4; stroke-opacity:1; fill:none\" points=\"1974.2,1377.32 2281.13,1377.32 2281.13,1273.64 1974.2,1273.64 1974.2,1377.32 \"/>\n",
       "<polyline clip-path=\"url(#clip740)\" style=\"stroke:#009af9; stroke-linecap:round; stroke-linejoin:round; stroke-width:4; stroke-opacity:1; fill:none\" points=\"1998.07,1325.48 2141.33,1325.48 \"/>\n",
       "<path clip-path=\"url(#clip740)\" d=\"M2189.11 1306.83 Q2189.11 1308.12 2188.3 1308.92 Q2187.5 1309.71 2186.49 1309.71 Q2185.77 1309.71 2185.23 1309.27 Q2184.71 1308.82 2184.71 1308.05 Q2184.71 1307.25 2185.32 1306.41 Q2185.93 1305.57 2187.31 1305.45 Q2186.4 1304.58 2184.95 1304.58 Q2184.22 1304.58 2183.61 1305.05 Q2183.03 1305.5 2182.7 1306.22 Q2182.35 1306.97 2181.55 1311.21 Q2181.29 1312.59 2181.06 1313.93 Q2180.82 1315.26 2180.54 1316.67 L2184.52 1316.67 Q2185.04 1316.67 2185.25 1316.69 Q2185.46 1316.72 2185.62 1316.83 Q2185.81 1316.95 2185.81 1317.21 Q2185.81 1317.86 2185.51 1318.03 Q2185.23 1318.17 2184.38 1318.17 L2180.26 1318.17 L2177.38 1333.37 Q2177.31 1333.81 2177.01 1335.22 Q2176.72 1336.6 2176.05 1338.87 Q2175.37 1341.17 2174.69 1342.53 Q2174.31 1343.3 2173.82 1344.03 Q2173.35 1344.78 2172.67 1345.52 Q2171.99 1346.27 2171.1 1346.72 Q2170.21 1347.19 2169.28 1347.19 Q2167.68 1347.19 2166.44 1346.3 Q2165.2 1345.41 2165.2 1343.89 Q2165.2 1342.6 2166 1341.8 Q2166.82 1341 2167.82 1341 Q2168.55 1341 2169.07 1341.45 Q2169.6 1341.89 2169.6 1342.67 Q2169.6 1343 2169.49 1343.37 Q2169.37 1343.74 2169.11 1344.17 Q2168.85 1344.61 2168.29 1344.92 Q2167.73 1345.22 2166.96 1345.27 Q2167.87 1346.13 2169.28 1346.13 Q2169.72 1346.13 2170.12 1345.95 Q2170.52 1345.78 2170.85 1345.36 Q2171.2 1344.94 2171.45 1344.52 Q2171.71 1344.12 2171.97 1343.35 Q2172.23 1342.6 2172.39 1342.03 Q2172.56 1341.47 2172.77 1340.47 Q2173 1339.46 2173.12 1338.85 Q2173.23 1338.26 2173.45 1337.12 L2177.03 1318.17 L2173.87 1318.17 Q2173.3 1318.17 2173.07 1318.14 Q2172.86 1318.12 2172.7 1318 Q2172.53 1317.86 2172.53 1317.58 Q2172.53 1317.14 2172.72 1316.95 Q2172.93 1316.74 2173.16 1316.72 Q2173.4 1316.67 2173.96 1316.67 L2177.29 1316.67 Q2178.41 1310.74 2178.86 1309.15 Q2179.37 1307.46 2180.17 1306.29 Q2180.96 1305.1 2181.85 1304.54 Q2182.74 1303.97 2183.47 1303.76 Q2184.22 1303.53 2184.95 1303.53 Q2186.59 1303.53 2187.85 1304.42 Q2189.11 1305.28 2189.11 1306.83 Z\" fill=\"#000000\" fill-rule=\"nonzero\" fill-opacity=\"1\" /><path clip-path=\"url(#clip740)\" d=\"M2195.57 1325.36 Q2195.57 1317.25 2198.59 1310.72 Q2199.88 1307.98 2201.68 1305.68 Q2203.48 1303.39 2204.68 1302.38 Q2205.87 1301.37 2206.2 1301.37 Q2206.67 1301.37 2206.69 1301.84 Q2206.69 1302.08 2206.06 1302.66 Q2198.33 1310.53 2198.35 1325.36 Q2198.35 1340.23 2205.87 1347.8 Q2206.69 1348.62 2206.69 1348.87 Q2206.69 1349.34 2206.2 1349.34 Q2205.87 1349.34 2204.73 1348.38 Q2203.58 1347.42 2201.8 1345.22 Q2200.02 1343.02 2198.73 1340.32 Q2195.57 1333.79 2195.57 1325.36 Z\" fill=\"#000000\" fill-rule=\"nonzero\" fill-opacity=\"1\" /><path clip-path=\"url(#clip740)\" d=\"M2234.23 1319.32 Q2234.23 1320.63 2233.41 1321.38 Q2232.59 1322.1 2231.65 1322.1 Q2230.76 1322.1 2230.29 1321.59 Q2229.82 1321.07 2229.82 1320.42 Q2229.82 1319.53 2230.48 1318.75 Q2231.13 1317.98 2232.12 1317.82 Q2231.16 1317.21 2229.73 1317.21 Q2228.79 1317.21 2227.97 1317.7 Q2227.18 1318.19 2226.68 1318.82 Q2226.22 1319.46 2225.79 1320.37 Q2225.4 1321.26 2225.23 1321.8 Q2225.09 1322.31 2224.97 1322.88 L2223.33 1329.43 Q2222.54 1332.55 2222.54 1333.65 Q2222.54 1335.01 2223.19 1335.92 Q2223.85 1336.81 2225.16 1336.81 Q2225.68 1336.81 2226.26 1336.67 Q2226.85 1336.51 2227.6 1336.09 Q2228.37 1335.64 2229.05 1334.98 Q2229.75 1334.31 2230.43 1333.16 Q2231.11 1332.01 2231.56 1330.53 Q2231.7 1330.02 2232.16 1330.02 Q2232.75 1330.02 2232.75 1330.49 Q2232.75 1330.89 2232.42 1331.73 Q2232.12 1332.55 2231.44 1333.63 Q2230.78 1334.68 2229.92 1335.64 Q2229.05 1336.58 2227.76 1337.23 Q2226.47 1337.89 2225.07 1337.89 Q2223.05 1337.89 2221.72 1336.81 Q2220.38 1335.73 2219.89 1334.24 Q2219.77 1334.45 2219.61 1334.73 Q2219.45 1335.01 2218.95 1335.64 Q2218.49 1336.25 2217.95 1336.72 Q2217.41 1337.16 2216.57 1337.51 Q2215.75 1337.89 2214.86 1337.89 Q2213.73 1337.89 2212.72 1337.56 Q2211.74 1337.23 2211.04 1336.48 Q2210.34 1335.73 2210.34 1334.7 Q2210.34 1333.56 2211.11 1332.76 Q2211.9 1331.94 2212.98 1331.94 Q2213.66 1331.94 2214.2 1332.34 Q2214.76 1332.74 2214.76 1333.6 Q2214.76 1334.56 2214.11 1335.29 Q2213.45 1336.02 2212.51 1336.2 Q2213.47 1336.81 2214.9 1336.81 Q2216.45 1336.81 2217.67 1335.45 Q2218.88 1334.09 2219.47 1331.82 Q2220.92 1326.37 2221.48 1323.93 Q2222.05 1321.47 2222.05 1320.42 Q2222.05 1319.43 2221.79 1318.75 Q2221.53 1318.07 2221.09 1317.77 Q2220.66 1317.44 2220.27 1317.32 Q2219.89 1317.21 2219.47 1317.21 Q2218.77 1317.21 2217.97 1317.49 Q2217.2 1317.77 2216.26 1318.42 Q2215.35 1319.06 2214.48 1320.37 Q2213.61 1321.68 2213.03 1323.48 Q2212.91 1324.02 2212.4 1324.02 Q2211.83 1324 2211.83 1323.53 Q2211.83 1323.13 2212.14 1322.31 Q2212.47 1321.47 2213.12 1320.42 Q2213.8 1319.36 2214.67 1318.42 Q2215.56 1317.46 2216.85 1316.81 Q2218.16 1316.15 2219.56 1316.15 Q2220.2 1316.15 2220.8 1316.29 Q2221.44 1316.41 2222.19 1316.76 Q2222.96 1317.11 2223.64 1317.89 Q2224.32 1318.66 2224.74 1319.78 Q2225.02 1319.24 2225.4 1318.73 Q2225.79 1318.21 2226.4 1317.58 Q2227.04 1316.93 2227.9 1316.55 Q2228.79 1316.15 2229.78 1316.15 Q2230.74 1316.15 2231.67 1316.41 Q2232.61 1316.64 2233.41 1317.42 Q2234.23 1318.17 2234.23 1319.32 Z\" fill=\"#000000\" fill-rule=\"nonzero\" fill-opacity=\"1\" /><path clip-path=\"url(#clip740)\" d=\"M2238.84 1348.87 Q2238.84 1348.64 2239.45 1348.05 Q2247.18 1340.18 2247.18 1325.36 Q2247.18 1310.48 2239.75 1302.97 Q2238.84 1302.1 2238.84 1301.84 Q2238.84 1301.37 2239.31 1301.37 Q2239.63 1301.37 2240.78 1302.33 Q2241.95 1303.29 2243.71 1305.5 Q2245.49 1307.7 2246.8 1310.39 Q2249.96 1316.93 2249.96 1325.36 Q2249.96 1333.46 2246.94 1340 Q2245.65 1342.74 2243.85 1345.03 Q2242.05 1347.33 2240.85 1348.34 Q2239.66 1349.34 2239.31 1349.34 Q2238.84 1349.34 2238.84 1348.87 Z\" fill=\"#000000\" fill-rule=\"nonzero\" fill-opacity=\"1\" /></svg>\n"
      ]
     },
     "execution_count": 13,
     "metadata": {},
     "output_type": "execute_result"
    }
   ],
   "source": [
    "# insert your code here\n",
    "function calc_square(x)\n",
    "    return x^2\n",
    "end\n",
    "\n",
    "arr_squaredVals = []\n",
    "for i in range(-5,5)\n",
    "    push!(arr_squaredVals, calc_square(i))\n",
    "end\n",
    "\n",
    "plot(arr_squaredVals, label=L\"$f(x)$\")\n",
    "xlabel!(L\"$x$\")\n",
    "ylabel!(L\"$x^2$\")"
   ]
  },
  {
   "cell_type": "markdown",
   "id": "2e026780",
   "metadata": {},
   "source": [
    "#### **SOLUTION - Question 2**\n",
    "\n",
    "Coded a function *calc_square* that, given an integer $x$, returns the square of that integer i.e. $x^2$. \n",
    "\n",
    "Called *calc_function* on each integer in *range(-5,5)*. Stored all of these outputs in the array *arr_squaredVals*.\n",
    "\n",
    "Plotted *arr_squaredVals* and labeled the axes."
   ]
  },
  {
   "cell_type": "markdown",
   "id": "458300d8",
   "metadata": {},
   "source": []
  },
  {
   "cell_type": "markdown",
   "id": "eaca6031-e691-4019-9986-e7127b3df842",
   "metadata": {},
   "source": [
    "## Commit and Push Your Changes to GitHub\n",
    "\n",
    "After completing the previous two exercises, commit your solution file\n",
    "(notebook or otherwise) and push to GitHub. Use an informative commit\n",
    "message which makes it clear what changes you’ve made. The specific\n",
    "workflow for this will vary depending on how you’re writing up your\n",
    "solutions; please search for specifics and ask for help as needed!\n",
    "\n",
    "> **Useful Commit Sizes**\n",
    ">\n",
    "> Ideally, you’d commit whenever you make a “substantial” enough change\n",
    "> that you want to lock in, such as writing the core code for a problem\n",
    "> or completing a problem, if you’re preparing code to be used elsewhere\n",
    "> (by yourself or others), or if you want to ask for help. `git` lets\n",
    "> you revert changes back to a previous commit, so it’s easy to undo\n",
    "> changes or updates which broke something that was previously working,\n",
    "> so changing too many things at once can make it hard to keep track of\n",
    "> what worked when.\n",
    ">\n",
    "> But in this case, go ahead and just commit after finishing the\n",
    "> problems.\n",
    "\n",
    "Push the repository with these commits to GitHub and take a screenshot\n",
    "of the repository page\n",
    "(`https://github.com/BEE4750-FA24/<username>/lab01`) which shows the\n",
    "updated repository. Include that screenshot in your submission as the\n",
    "solution to this problem.\n",
    "\n",
    "## Submitting PDF\n",
    "\n",
    "> **Important**\n",
    ">\n",
    "> These submission instructions will not be repeated on future\n",
    "> assignments!\n",
    "\n",
    "Export your writeup as a PDF and submit it to the “Lab 1” assignment on\n",
    "Gradescope. Make sure that you tag pages corresponding to relevant\n",
    "problems to avoid a 10% penalty.\n",
    "\n",
    "> **Printing Code to PDF**\n",
    ">\n",
    "> You are not required to submit your code when submitting assignments.\n",
    "> However, when printing a notebook to PDF, long lines will run off the\n",
    "> edge of code cells, which may result in comments or code being hidden.\n",
    "> If you see this, go back to the notebook and break up long lines into\n",
    "> shorter onces (for example, see the comment in the above code cell) to\n",
    "> ensure key parts of your results aren’t missing."
   ]
  }
 ],
 "metadata": {
  "kernel_info": {
   "name": "julia"
  },
  "kernelspec": {
   "display_name": "Julia 1.10.4",
   "language": "julia",
   "name": "julia-1.10"
  },
  "language_info": {
   "file_extension": ".jl",
   "mimetype": "application/julia",
   "name": "julia",
   "version": "1.10.4"
  }
 },
 "nbformat": 4,
 "nbformat_minor": 5
}
